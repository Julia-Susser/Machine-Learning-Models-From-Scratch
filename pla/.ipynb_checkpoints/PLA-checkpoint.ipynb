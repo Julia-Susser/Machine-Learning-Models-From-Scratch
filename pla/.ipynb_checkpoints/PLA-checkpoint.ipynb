{
 "cells": [
  {
   "cell_type": "code",
   "execution_count": null,
   "metadata": {},
   "outputs": [],
   "source": [
    "import numpy as np\n",
    "from math import e\n",
    "import math\n",
    "import random\n",
    "import matplotlib.pyplot as plt\n",
    "import pandas as pd\n",
    "import seaborn as sns\n",
    "import copy\n",
    "import cvxopt as cvo\n",
    "from cvxopt import matrix\n",
    "import copy"
   ]
  },
  {
   "cell_type": "code",
   "execution_count": null,
   "metadata": {},
   "outputs": [],
   "source": [
    "class PLA():\n",
    "    def pred(self, x):\n",
    "        val = np.dot(x, self.weights)\n",
    "        return np.sign(val)\n",
    "    def adjust_weights(self, x,y):\n",
    "        x = [1]+list(x) #1 for threshold\n",
    "        if y == self.pred(x):\n",
    "            return True\n",
    "        else:\n",
    "            self.weights = self.weights + np.multiply(y, x) #can change threshold too\n",
    "            return False\n",
    "        \n",
    "    def runPLA(self):\n",
    "        self.num_iters = 0\n",
    "        self.weights = np.zeros(3)\n",
    "        while True:\n",
    "            val = random.randint(0,self.N-1)\n",
    "            acc = self.adjust_weights(self.X[val],self.y[val])\n",
    "            if acc:\n",
    "                y = self.find_actual_y(self.X)\n",
    "                preds = self.calculate_preds(self.X,self.weights)\n",
    "                if np.count_nonzero(preds!=y) == 0:\n",
    "                    break\n",
    "            else:\n",
    "                self.num_iters += 1 # only add iteration if False because otherwise it did not adjust at all \n"
   ]
  }
 ],
 "metadata": {
  "kernelspec": {
   "display_name": "Python 3",
   "language": "python",
   "name": "python3"
  },
  "language_info": {
   "codemirror_mode": {
    "name": "ipython",
    "version": 3
   },
   "file_extension": ".py",
   "mimetype": "text/x-python",
   "name": "python",
   "nbconvert_exporter": "python",
   "pygments_lexer": "ipython3",
   "version": "3.8.4"
  }
 },
 "nbformat": 4,
 "nbformat_minor": 4
}
