{
 "cells": [
  {
   "cell_type": "code",
   "execution_count": 2,
   "metadata": {},
   "outputs": [],
   "source": [
    "import numpy as np\n",
    "from math import e\n",
    "import math\n",
    "import random\n",
    "import matplotlib.pyplot as plt\n",
    "import pandas as pd\n",
    "import seaborn as sns\n",
    "import copy\n",
    "import cvxopt as cvo\n",
    "from cvxopt import matrix\n",
    "import sklearn\n",
    "from sklearn.utils import shuffle\n",
    "from sklearn import svm"
   ]
  },
  {
   "cell_type": "code",
   "execution_count": 18,
   "metadata": {},
   "outputs": [],
   "source": [
    "class CrossVal():\n",
    "    \n",
    "    def partitionData(self,splits=10):\n",
    "        idxs = list(shuffle(self.train).index)\n",
    "        result = np.array_split(idxs, 10) \n",
    "        return result\n",
    "    \n",
    "        \n",
    "    def EvalForIdx(self,C,valIdxs):\n",
    "        Xval = self.Xtrain.loc[valIdxs]\n",
    "        Xtrain = self.Xtrain.loc[~self.Xtrain.index.isin(valIdxs)]\n",
    "        yval = self.ytrain.loc[valIdxs]\n",
    "        ytrain = self.ytrain.loc[~self.ytrain.index.isin(valIdxs)]\n",
    "        \n",
    "        \n",
    "        my_svm = svm.SVC(C = C, kernel = 'poly',degree = 2, coef0 = 1.0, gamma = 1.0)\n",
    "        my_svm.fit(Xtrain,ytrain)\n",
    "        Eval = self.E(my_svm, Xval,yval)\n",
    "        return Eval\n",
    "    \n",
    "    def runEval(self,partitions,C,splits=10):\n",
    "        Evals = [] \n",
    "        for x in range(10):\n",
    "            valIdxs = list(partitions[x])\n",
    "            Eval = self.EvalForIdx(C,valIdxs)\n",
    "            Evals.append(Eval)\n",
    "        Eval = np.average(Evals)\n",
    "        return Eval\n",
    "            \n",
    "    def crossVal(self):\n",
    "        partitions = self.partitionData(splits=10)\n",
    "        smallestEval = 1\n",
    "        Evals = []\n",
    "        for C in [0.0001, 0.001, 0.01, 0.1, 1]:\n",
    "            Eval = self.runEval(partitions,C)\n",
    "            #print(\"10 Fold Eval %s ; C is %s\" % (Eval, C))\n",
    "            Evals.append(Eval)\n",
    "            if smallestEval > Eval:\n",
    "                smallestEval = Eval\n",
    "                self.finalC = C\n",
    "        #print(\"Best C is %s with Eval of %s\" % (self.finalC,smallestEval))\n",
    "        self.avgEval = np.average(Evals)\n",
    "        \n",
    "    def E(self,my_svm,X,y):\n",
    "        return 1-my_svm.score(X, y)   \n",
    "            \n",
    "    \n",
    "class create_test(CrossVal):\n",
    "    def __init__(self,val1,val2=None):\n",
    "        self.val1 = val1\n",
    "        self.val2 = val2\n",
    "        \n",
    "        val2 = \"all\" if self.val2==None else self.val2\n",
    "        #print(\"%s vs. %s\" % (self.val1, val2))\n",
    "        \n",
    "        self.train = pd.read_csv(\"../data/features.train.csv\",index_col=0)\n",
    "        self.train.columns = [\"digit\",\"x1\",\"x2\"]\n",
    "        self.test = pd.read_csv(\"../data/features.test.csv\",index_col=0)\n",
    "        self.test.columns = [\"digit\",\"x1\",\"x2\"]\n",
    "        \n",
    "        self.initDataset()\n",
    "        self.N = len(self.Xtrain)\n",
    "        \n",
    "        self.crossVal()\n",
    "        \n",
    "        \n",
    "        \n",
    "    def initDataset(self):\n",
    "        if self.val2 != None:\n",
    "            self.train = self.train[(self.train[\"digit\"]==self.val1) | (self.train[\"digit\"]==self.val2)]\n",
    "            self.train.loc[self.train[\"digit\"]==self.val1,\"y\"]=1\n",
    "            self.train.loc[self.train[\"digit\"]==self.val2,\"y\"]=-1\n",
    "            \n",
    "            self.test = self.test[(self.test[\"digit\"]==self.val1) | (self.test[\"digit\"]==self.val2)]\n",
    "            self.test.loc[self.test[\"digit\"]==self.val1,\"y\"]=1\n",
    "            self.test.loc[self.test[\"digit\"]==self.val2,\"y\"]=-1\n",
    "        else:\n",
    "            self.train[\"y\"] = -1\n",
    "            self.train.loc[self.train[\"digit\"]==self.val1,\"y\"]=1\n",
    "            \n",
    "            self.test[\"y\"] = -1\n",
    "            self.test.loc[self.test[\"digit\"]==self.val1,\"y\"]=1\n",
    "        \n",
    "        \n",
    "        self.Xtrain = self.train[[\"x1\",\"x2\"]]\n",
    "        self.ytrain = self.train.y\n",
    "        self.Xtest = self.test[[\"x1\",\"x2\"]]\n",
    "        self.ytest = self.test.y \n",
    "            \n",
    "    "
   ]
  },
  {
   "cell_type": "code",
   "execution_count": 19,
   "metadata": {},
   "outputs": [
    {
     "name": "stdout",
     "output_type": "stream",
     "text": [
      "1 vs. 5\n",
      "10 Fold Eval 0.009615384615384592 ; C is 0.0001\n",
      "10 Fold Eval 0.00512820512820511 ; C is 0.001\n",
      "10 Fold Eval 0.005124122162338707 ; C is 0.01\n",
      "10 Fold Eval 0.005124122162338707 ; C is 0.1\n",
      "10 Fold Eval 0.004483096521313068 ; C is 1\n",
      "Best C is 1 with Eval of 0.004483096521313068\n"
     ]
    },
    {
     "data": {
      "text/plain": [
       "<__main__.create_test at 0x7f9af368fca0>"
      ]
     },
     "execution_count": 19,
     "metadata": {},
     "output_type": "execute_result"
    }
   ],
   "source": [
    "create_test(1,5)"
   ]
  },
  {
   "cell_type": "code",
   "execution_count": 7,
   "metadata": {},
   "outputs": [],
   "source": [
    "\n",
    "finalCs = [create_test(1,5).finalC for x in range(10)]\n"
   ]
  },
  {
   "cell_type": "code",
   "execution_count": 13,
   "metadata": {},
   "outputs": [
    {
     "data": {
      "text/plain": [
       "[array([1.e-03, 6.e+00]),\n",
       " array([0.01, 2.  ]),\n",
       " array([0.1, 1. ]),\n",
       " array([1., 1.])]"
      ]
     },
     "execution_count": 13,
     "metadata": {},
     "output_type": "execute_result"
    }
   ],
   "source": [
    "unique, counts = np.unique(finalCs, return_counts=True)\n",
    "\n",
    "list(np.asarray((unique, counts)).T)"
   ]
  },
  {
   "cell_type": "code",
   "execution_count": 16,
   "metadata": {},
   "outputs": [
    {
     "data": {
      "text/plain": [
       "0.005680766508791971"
      ]
     },
     "execution_count": 16,
     "metadata": {},
     "output_type": "execute_result"
    }
   ],
   "source": [
    "avgEvals = []\n",
    "for x in range(10):\n",
    "    test = create_test(1,5)\n",
    "    if test.finalC == .001:\n",
    "        avgEval = test.avgEval\n",
    "        avgEvals.append(avgEval)\n",
    "np.average(avgEvals)"
   ]
  },
  {
   "cell_type": "code",
   "execution_count": null,
   "metadata": {},
   "outputs": [],
   "source": []
  }
 ],
 "metadata": {
  "kernelspec": {
   "display_name": "Python 3",
   "language": "python",
   "name": "python3"
  },
  "language_info": {
   "codemirror_mode": {
    "name": "ipython",
    "version": 3
   },
   "file_extension": ".py",
   "mimetype": "text/x-python",
   "name": "python",
   "nbconvert_exporter": "python",
   "pygments_lexer": "ipython3",
   "version": "3.8.4"
  }
 },
 "nbformat": 4,
 "nbformat_minor": 4
}
