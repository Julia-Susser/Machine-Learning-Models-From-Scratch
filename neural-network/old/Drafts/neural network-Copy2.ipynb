{
 "cells": [
  {
   "cell_type": "code",
   "execution_count": 3,
   "metadata": {},
   "outputs": [],
   "source": [
    "import numpy as np\n",
    "from math import e\n",
    "import math\n",
    "import random"
   ]
  },
  {
   "cell_type": "code",
   "execution_count": 4,
   "metadata": {},
   "outputs": [],
   "source": [
    "class Line():\n",
    "    def __init__(self, p):\n",
    "        self.p1 = p[0]\n",
    "        self.p2 = p[1]\n",
    "        self.slope = (self.p1[1]-self.p2[1])/(self.p1[0]-self.p2[0])\n",
    "        self.b = self.p1[1]-self.slope*self.p1[0]\n",
    "        super().__init__()\n",
    "    def calculate(self,x):\n",
    "        return self.slope*x+self.b\n",
    "    def plot(self):\n",
    "        x = np.random.uniform(-1,1,10)\n",
    "        plt.plot(x,self.calculate(x))\n",
    "    def find_actual_y(self,points):\n",
    "        return [np.sign(self.calculate(p[0]) - p[1]) for p in points]\n",
    "\n",
    "    \n",
    "#for layer 1, i=[0-2] and j=[0-2]\n",
    "#for layer 2, i=[0-4] and j=[1]\n",
    "    \n",
    "class NeuralNetwork(Line):\n",
    "    def __init__(self):\n",
    "        self.N = 10\n",
    "        self.input = 2\n",
    "        self.N_var_layer1 = 3\n",
    "        self.N_var_layer2 = 4\n",
    "        self.N_var_layer3 = 1 #output\n",
    "        self.layers = [self.N_var_layer1, self.N_var_layer2, self.N_var_layer3]\n",
    "        self.n = .1\n",
    "        self.N_layers = len(self.layers)\n",
    "        \n",
    "        #initialize weights\n",
    "        self.weights1 = np.random.uniform(-1.0,1.0,(self.N_var_layer2-1,self.N_var_layer1)) # shape =(#j (outputs), #i (inputs))\n",
    "        self.weights2 = np.random.uniform(-1.0,1.0,(self.N_var_layer3,self.N_var_layer2))\n",
    "        self.weights = [self.weights1,self.weights2]\n",
    "        \n",
    "        #Create points\n",
    "        self.create_line()\n",
    "        X = np.random.uniform(-1.0,1.0,(self.N,self.input))\n",
    "        self.y = self.find_actual_y(X)\n",
    "        self.X = np.concatenate([[[1]for x in range(len(X))],X],axis=1)\n",
    "\n",
    "        #Run SGD\n",
    "        print(self.weights)\n",
    "        mse = self.mse(self.X,self.y)\n",
    "        print(mse)\n",
    "        \n",
    "        for x in range(1000):\n",
    "            self.sgd_epoch()\n",
    "        \n",
    "        \n",
    "        mse = self.mse(self.X,self.y)\n",
    "        print(mse)\n",
    "        print(self.weights)\n",
    "        self.eout = self.eout()\n",
    "        print(self.eout)\n",
    "        \n",
    "    def create_line(self):\n",
    "        p = np.random.uniform(-1.0,1.0,(2,2))\n",
    "        while p[0][0] == p[1][0] and p[0][1] == p[1][1]:\n",
    "            p = [np.random.uniform(-1.0,1.0,2) for x in range(2)]\n",
    "        super().__init__(p)\n",
    "         \n",
    "        \n",
    "        \n",
    "####################################################\n",
    "    def pickRandomPoint(self):\n",
    "        val = random.randint(0,self.N-1)\n",
    "        return self.X[val], self.y[val]\n",
    "        \n",
    "    def calculate_xjLs(self,x):\n",
    "        xjLs = [x]\n",
    "        for layer in range(self.N_layers-1):\n",
    "            x_l = [1] if layer != self.N_layers-2 else [] #self.N_layers-2 bc layer 2nd gives layer 3 and layer 2nd is actually 1\n",
    "            weights_for_layer = self.weights[layer]\n",
    "            for w_jl in weights_for_layer: #picking specific weights of one output (j)\n",
    "                x_jl = self.tahn(np.matmul(x,w_jl.T))\n",
    "                x_l.append(x_jl)\n",
    "            xjLs.append(x_l)\n",
    "            x = x_l\n",
    "        return xjLs\n",
    "    \n",
    "    def tahn(self,sj):\n",
    "        return (e**sj-e**-sj)/(e**sj+e**-sj)\n",
    "    \n",
    "    def derivative_of_tahn(self,tahn_s):\n",
    "        return (1-(tahn_s)**2)\n",
    "    \n",
    "    def calculate_deltaL(self,x,y):\n",
    "        x_1_L = self.xjLs[self.N_layers-1][0]\n",
    "        return [(x_1_L-y)*self.derivative_of_tahn(x_1_L)]\n",
    "    \n",
    "    def calculate_deltas(self,layer,deltas_layer):\n",
    "        #when layer is three gives deltas for two (already made deltaL), when layer is 2 it gives deltas for 1 --> stop at layer 2\n",
    "        if layer == 2:\n",
    "            return [deltas_layer]\n",
    "        layer_m1 = layer-1\n",
    "        d_layer = [1] if layer == self.N_layers else range(1,self.layers[layer_m1]) \n",
    "        d_layer_m1 = range(1,self.layers[layer_m1-1]) \n",
    "        \n",
    "        deltas_layer_m1_i = []\n",
    "        \n",
    "        for i in d_layer_m1:\n",
    "            sum_of_j_paths = 0\n",
    "            for j in d_layer:\n",
    "                deltaj = deltas_layer[j-1]\n",
    "                sum_of_j_paths += deltaj*self.weights[layer_m1-1][j-1][i] \n",
    "                #j-1 because the weights for j=1 are actually the first weights as j=0 is 1\n",
    "            \n",
    "            delta_layer_m1_i = self.derivative_of_tahn(self.xjLs[layer_m1-1][i]) * sum_of_j_paths\n",
    "            deltas_layer_m1_i.append(delta_layer_m1_i)\n",
    "            \n",
    "        return self.calculate_deltas(layer-1,deltas_layer_m1_i) + [deltas_layer]\n",
    "        \n",
    "    \n",
    "####################################################\n",
    "    \n",
    "    \n",
    "    def sgd_gradient(self):\n",
    "        for layer in range(2,self.N_layers+1):\n",
    "            layer_m1 = layer-1 #wij_2 where 2=layer is the weights between layer 1 (layer-1) and layer 2 (layer)\n",
    "            delta_layer = self.deltas[layer-2] #delta layer 2 is the first delta at index 0\n",
    "            for j in range(1,self.layers[layer-1]):\n",
    "                deltaj_l = delta_layer[j-1]\n",
    "                for i in range(self.layers[layer_m1-1]):\n",
    "                    wij_l = self.weights[layer_m1-1][j-1][i]#weights for layer 1 to go to layer 2 is at index 0\n",
    "                    xi_layer_m1 = self.xjLs[layer_m1-1][i]\n",
    "                    gradient = -self.n*xi_layer_m1*deltaj_l\n",
    "                    self.weights[layer_m1-1][j-1][i] = wij_l + gradient\n",
    "        \n",
    "        \n",
    "        \n",
    "    def sgd_epoch(self):\n",
    "        vals = list(range(self.N))\n",
    "        random.shuffle(vals)\n",
    "        for v in vals:\n",
    "            x, y = self.X[v],self.y[v]\n",
    "            self.xjLs = self.calculate_xjLs(x)\n",
    "            self.deltaL = self.calculate_deltaL(x,y)\n",
    "            self.deltas = self.calculate_deltas(self.N_layers,self.deltaL)\n",
    "            self.sgd_gradient()\n",
    "              \n",
    "    \n",
    "    \n",
    "######################################################\n",
    "        \n",
    "    def mse(self,X,y):\n",
    "        w = self.weights\n",
    "        return sum([(self.calculate_xjLs(X[v])[-1][0] - y[v])**2 for v in range(len(X))])/len(X)\n",
    "    \n",
    "    \n",
    "    def eout(self):\n",
    "        X = [np.random.uniform(-1.0,1.0,2) for x in range(100)]\n",
    "        X = np.concatenate([[[1]for x in range(len(X))],X],axis=1)\n",
    "        y = self.find_actual_y(X)\n",
    "        return self.mse(X,y)\n",
    "\n"
   ]
  },
  {
   "cell_type": "code",
   "execution_count": 5,
   "metadata": {},
   "outputs": [
    {
     "name": "stdout",
     "output_type": "stream",
     "text": [
      "[array([[-0.1901854 ,  0.53722935, -0.97509259],\n",
      "       [-0.61142241,  0.83148601, -0.0662384 ],\n",
      "       [-0.9187375 ,  0.53421213, -0.16762583]]), array([[-0.11990582, -0.4729111 ,  0.26462911,  0.50084823]])]\n",
      "1.3228591170686514\n",
      "0.07123439819770909\n",
      "[array([[-3.31486919, -5.75873738,  0.86492092],\n",
      "       [ 2.55926482,  4.48404237, -0.67962602],\n",
      "       [ 3.74000969,  6.46978591, -0.98485512]]), array([[-0.11990582, -0.4729111 ,  0.26462911,  0.50084823]])]\n",
      "0.682014106327647\n"
     ]
    },
    {
     "data": {
      "text/plain": [
       "<__main__.NeuralNetwork at 0x7ff355111c40>"
      ]
     },
     "execution_count": 5,
     "metadata": {},
     "output_type": "execute_result"
    }
   ],
   "source": [
    "NeuralNetwork()"
   ]
  },
  {
   "cell_type": "code",
   "execution_count": 230,
   "metadata": {},
   "outputs": [
    {
     "data": {
      "text/plain": [
       "0"
      ]
     },
     "execution_count": 230,
     "metadata": {},
     "output_type": "execute_result"
    }
   ],
   "source": [
    "sum([])"
   ]
  },
  {
   "cell_type": "code",
   "execution_count": 63,
   "metadata": {},
   "outputs": [
    {
     "ename": "NameError",
     "evalue": "name 'y' is not defined",
     "output_type": "error",
     "traceback": [
      "\u001b[0;31m---------------------------------------------------------------------------\u001b[0m",
      "\u001b[0;31mNameError\u001b[0m                                 Traceback (most recent call last)",
      "\u001b[0;32m<ipython-input-63-496807734eab>\u001b[0m in \u001b[0;36m<module>\u001b[0;34m\u001b[0m\n\u001b[0;32m----> 1\u001b[0;31m \u001b[0;34m[\u001b[0m\u001b[0mx\u001b[0m \u001b[0;32mfor\u001b[0m \u001b[0mx\u001b[0m \u001b[0;32min\u001b[0m \u001b[0mrange\u001b[0m\u001b[0;34m(\u001b[0m\u001b[0my\u001b[0m\u001b[0;34m)\u001b[0m \u001b[0;32mfor\u001b[0m \u001b[0my\u001b[0m \u001b[0;32min\u001b[0m \u001b[0mrange\u001b[0m\u001b[0;34m(\u001b[0m\u001b[0mx\u001b[0m\u001b[0;34m)\u001b[0m\u001b[0;34m]\u001b[0m\u001b[0;34m\u001b[0m\u001b[0;34m\u001b[0m\u001b[0m\n\u001b[0m",
      "\u001b[0;31mNameError\u001b[0m: name 'y' is not defined"
     ]
    }
   ],
   "source": [
    "[x for x in range(y) for y in range(x)]"
   ]
  },
  {
   "cell_type": "code",
   "execution_count": 281,
   "metadata": {},
   "outputs": [
    {
     "data": {
      "text/plain": [
       "1"
      ]
     },
     "execution_count": 281,
     "metadata": {},
     "output_type": "execute_result"
    }
   ],
   "source": [
    "i = 1\n",
    "k = {\"1\":1}\n",
    "k[str(i)]"
   ]
  },
  {
   "cell_type": "code",
   "execution_count": 171,
   "metadata": {},
   "outputs": [
    {
     "data": {
      "text/plain": [
       "array([-0.26713872,  0.1147905 ])"
      ]
     },
     "execution_count": 171,
     "metadata": {},
     "output_type": "execute_result"
    }
   ],
   "source": [
    "#all that will have deltas from layer 2(the layer minus 1) is from i's 1-3 bc those are the ones where the previous layers will need their deltas"
   ]
  },
  {
   "cell_type": "code",
   "execution_count": null,
   "metadata": {},
   "outputs": [],
   "source": [
    "#j-1 because the weights for j=1 are actually the first weights from the prev layer to that layer as j=0 is 1"
   ]
  }
 ],
 "metadata": {
  "kernelspec": {
   "display_name": "Python 3",
   "language": "python",
   "name": "python3"
  },
  "language_info": {
   "codemirror_mode": {
    "name": "ipython",
    "version": 3
   },
   "file_extension": ".py",
   "mimetype": "text/x-python",
   "name": "python",
   "nbconvert_exporter": "python",
   "pygments_lexer": "ipython3",
   "version": "3.8.4"
  }
 },
 "nbformat": 4,
 "nbformat_minor": 4
}
