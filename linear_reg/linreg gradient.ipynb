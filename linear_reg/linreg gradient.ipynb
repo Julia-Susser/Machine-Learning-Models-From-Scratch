{
 "cells": [
  {
   "cell_type": "code",
   "execution_count": 47,
   "metadata": {},
   "outputs": [],
   "source": [
    "import numpy as np\n",
    "from math import e\n",
    "import math\n",
    "import random\n",
    "import matplotlib.pyplot as plt\n",
    "import seaborn as sns"
   ]
  },
  {
   "cell_type": "code",
   "execution_count": 345,
   "metadata": {},
   "outputs": [],
   "source": [
    "class Line():\n",
    "    \n",
    "    def create_line(self):\n",
    "        self.mbs = np.random.uniform(1.0,0.0,3)\n",
    "    \n",
    "    def find_actual_y(self,X):\n",
    "        return np.matmul(X,self.mbs.T)\n",
    "\n",
    "    \n",
    "    \n",
    "class Plot:\n",
    "    def plot(self, y, preds):\n",
    "        plt.plot(preds,preds,\"go\")\n",
    "        plt.plot(preds,y,\"bo\")\n",
    "        plt.vlines(preds,preds,y, colors='k', linestyles='solid', label='')\n",
    "        plt.show()\n",
    "class GradientDescentLinReg(Line, Plot):\n",
    "    def __init__(self,N):\n",
    "        self.weights = np.array([0,0,0])\n",
    "        self.n = .01\n",
    "        self.N = N\n",
    "        \n",
    "        self.create_line()\n",
    "        \n",
    "        X = np.random.uniform(-1.0,1.0,(self.N,2))\n",
    "        self.X = self.add_thresholdCol(X)\n",
    "        self.y = self.find_actual_y(self.X)\n",
    "        \n",
    "        print(self.mse(self.X,self.y))\n",
    "        self.run_sgd()\n",
    "        #self.run_gradient_descent()\n",
    "        self.eout()\n",
    "        \n",
    "   \n",
    "        \n",
    "    def run_sgd(self):\n",
    "        self.num_iter = 0\n",
    "        cur_wdiff = 1\n",
    "        for x in range(100):\n",
    "            self.num_iter += 1\n",
    "            wt = self.weights\n",
    "            self.sgd_epoch()\n",
    "            wt1 = self.weights\n",
    "           \n",
    "            \n",
    "        self.ein = self.mse(self.X,self.y)\n",
    "    \n",
    "    \n",
    "    def run_gradient_descent(self):\n",
    "        self.num_iter = 0\n",
    "        hump = 0\n",
    "        for x in range(1000):\n",
    "            self.num_iter += 1\n",
    "            wt = self.weights\n",
    "            self.gradient_descent()\n",
    "            wt1 = self.weights\n",
    "            \n",
    "        \n",
    "        self.ein = self.mse(self.X,self.y)\n",
    "        \n",
    "        \n",
    "        \n",
    "####################################################\n",
    "        \n",
    "    def sgd_gradient(self,x,y):\n",
    "        w = self.weights\n",
    "        return (y-np.matmul(x,w))*-x*2\n",
    "    \n",
    "    \n",
    "    def gradient(self):\n",
    "        w = self.weights\n",
    "        return -np.matmul((self.y-np.matmul(self.X,w)),self.X)*2/self.N\n",
    "         \n",
    "    \n",
    "####################################################\n",
    "    \n",
    "    \n",
    "    def gradient_descent(self):\n",
    "        gradient = -self.n *self.gradient()\n",
    "        self.weights = self.weights + gradient \n",
    "        \n",
    "    def sgd_epoch(self):\n",
    "        vals = list(range(self.N))\n",
    "        random.shuffle(vals)\n",
    "        for v in vals:\n",
    "            gradient = -self.n *self.sgd_gradient(self.X[v],self.y[v])\n",
    "            self.weights = self.weights + gradient  \n",
    "    \n",
    "    \n",
    "######################################################\n",
    "    \n",
    "    def mse(self,X,y):\n",
    "        w = self.weights\n",
    "        return sum((self.calc(X)-y)**2)/self.N\n",
    "    def calc(self,X):\n",
    "        w = self.weights\n",
    "        return np.matmul(X,w.T)\n",
    "    def add_thresholdCol(self,X):\n",
    "        return np.concatenate([[[1]for x in range(len(X))],X],axis=1)\n",
    "    def eout(self):\n",
    "        X = np.random.uniform(-1.0,1.0,(100,2))\n",
    "        X = self.add_thresholdCol(X)\n",
    "        y = self.find_actual_y(X)\n",
    "        self.eout = self.mse(X,y)\n",
    "        preds = self.calc(X)\n",
    "        self.plot(y,preds)\n",
    "\n"
   ]
  },
  {
   "cell_type": "code",
   "execution_count": 346,
   "metadata": {},
   "outputs": [],
   "source": [
    "class run_experiment():\n",
    "    def __init__(self,N, numEx):\n",
    "        self.N = N\n",
    "        self.numEx = numEx\n",
    "        self.run() \n",
    "    def run(self):\n",
    "        eouts = []\n",
    "        eins = []\n",
    "        num_iters = []\n",
    "        for x in range(self.numEx):\n",
    "            test = GradientDescentLinReg(self.N)\n",
    "            eouts.append(test.eout)\n",
    "            eins.append(test.ein)\n",
    "            num_iters.append(test.num_iter)\n",
    "        Eout = np.mean(eouts)\n",
    "        NumIter = np.mean(num_iters)\n",
    "        Ein = np.mean(eins)\n",
    "        print(\"Eout Error %s\" % Eout)\n",
    "        print(\"Ein Error %s\" % Ein)\n",
    "        print(\"Num Iterations %s\" % NumIter) \n",
    "           \n",
    "            \n",
    "            "
   ]
  },
  {
   "cell_type": "code",
   "execution_count": 347,
   "metadata": {},
   "outputs": [
    {
     "name": "stdout",
     "output_type": "stream",
     "text": [
      "0.44493339534717286\n"
     ]
    },
    {
     "data": {
      "image/png": "[encoded data removed]",
      "text/plain": [
       "<Figure size 432x288 with 1 Axes>"
      ]
     },
     "metadata": {
      "needs_background": "light"
     },
     "output_type": "display_data"
    },
    {
     "name": "stdout",
     "output_type": "stream",
     "text": [
      "Eout Error 1.5844856764067117e-30\n",
      "Ein Error 1.2596737394259156e-30\n",
      "Num Iterations 100.0\n"
     ]
    }
   ],
   "source": [
    "obj = run_experiment(100,1)"
   ]
  },
  {
   "cell_type": "code",
   "execution_count": 40,
   "metadata": {},
   "outputs": [],
   "source": [
    "i = random.shuffle([1,2])"
   ]
  },
  {
   "cell_type": "code",
   "execution_count": 88,
   "metadata": {},
   "outputs": [
    {
     "data": {
      "text/plain": [
       "2.23606797749979"
      ]
     },
     "execution_count": 88,
     "metadata": {},
     "output_type": "execute_result"
    }
   ],
   "source": [
    "np.linalg.norm([1,2])"
   ]
  },
  {
   "cell_type": "code",
   "execution_count": 35,
   "metadata": {},
   "outputs": [],
   "source": [
    "cur_idxs = np.arange(3)\n"
   ]
  },
  {
   "cell_type": "code",
   "execution_count": 113,
   "metadata": {},
   "outputs": [
    {
     "data": {
      "text/plain": [
       "1.7320508075688772"
      ]
     },
     "execution_count": 113,
     "metadata": {},
     "output_type": "execute_result"
    }
   ],
   "source": [
    "np.sqrt(3)"
   ]
  },
  {
   "cell_type": "code",
   "execution_count": 348,
   "metadata": {},
   "outputs": [],
   "source": [
    "class Line():\n",
    "    \n",
    "    def create_line(self):\n",
    "        self.rm1, self.rm2, self.rb = np.random.uniform(1.0,0.0,3)\n",
    "    \n",
    "    def find_actual_y(self,X):\n",
    "        return X[:,0]*self.rm1 + X[:,1]*self.rm2 + self.rb\n",
    "\n",
    "\n",
    "    \n",
    "    \n",
    "class Plot:\n",
    "    def plot(self, y, preds):\n",
    "        plt.plot(preds,preds,\"go\")\n",
    "        plt.plot(preds,y,\"bo\")\n",
    "        plt.vlines(preds,preds,y, colors='k', linestyles='solid', label='')\n",
    "        plt.show()\n",
    "class GradientDescentLinReg(Line, Plot):\n",
    "    def __init__(self,N):\n",
    "        self.m1, self.m2, self.b = 0,0,0\n",
    "        self.n = .01\n",
    "        self.N = N\n",
    "\n",
    "        self.create_line()\n",
    "        \n",
    "        self.X = np.random.uniform(-1.0,1.0,(self.N,2))\n",
    "        self.y = self.find_actual_y(self.X)\n",
    "        \n",
    "        print(self.mse(self.X,self.y))\n",
    "        self.run_sgd()\n",
    "        #self.run_gradient_descent()\n",
    "        self.eout()\n",
    "        \n",
    "   \n",
    "        \n",
    "    def run_sgd(self):\n",
    "        for x in range(1000):\n",
    "            self.sgd_epoch() \n",
    "        self.ein = self.mse(self.X,self.y)\n",
    "    \n",
    "    \n",
    "    def run_gradient_descent(self):\n",
    "    \n",
    "        for x in range(1000):\n",
    "            self.gradient_descent()\n",
    "\n",
    "        self.ein = self.mse(self.X,self.y)\n",
    "        \n",
    "        \n",
    "        \n",
    "####################################################\n",
    "        \n",
    "   \n",
    "    \n",
    "    def sgd_gradient(self,m,x,y):\n",
    "        return -(y-self.calc1(x))*x[m]*2/self.N\n",
    "    \n",
    "    def sgd_bgradient(self,x,y):\n",
    "        return -y-self.calc1(x)*2/self.N\n",
    "    \n",
    "    def gradient(self,m):\n",
    "        return -np.matmul((self.y-self.calc(self.X)),self.X[:,m])*2/self.N\n",
    "    \n",
    "    def bgradient(self):\n",
    "        return -np.sum(self.y-self.calc(self.X))*2/self.N\n",
    "         \n",
    "    \n",
    "####################################################\n",
    "    \n",
    "    \n",
    "    def gradient_descent(self):\n",
    "        m1gradient = -self.n *self.gradient(0)\n",
    "        self.m1 = self.m1 + m1gradient \n",
    "        m2gradient = -self.n *self.gradient(1)\n",
    "        self.m2 = self.m2 + m2gradient \n",
    "        bgradient = -self.n *self.bgradient()\n",
    "        self.b = self.b + bgradient \n",
    "    def sgd_epoch(self):\n",
    "        vals = list(range(self.N))\n",
    "        random.shuffle(vals)\n",
    "        for v in vals:\n",
    "            x,y = self.X[v],self.y[v]\n",
    "            m1gradient = -self.n *self.sgd_gradient(0,x,y)\n",
    "            self.m1 = self.m1 + m1gradient \n",
    "            m2gradient = -self.n *self.sgd_gradient(1,x,y)\n",
    "            self.m2 = self.m2 + m2gradient \n",
    "            bgradient = -self.n *self.bgradient()\n",
    "            self.b = self.b + bgradient \n",
    "            \n",
    "    \n",
    "######################################################\n",
    "    \n",
    "    def mse(self,X,y):\n",
    "        return sum((self.calc(X)-y)**2)/self.N\n",
    "    def calc(self,X):\n",
    "        return np.sum([X[:,0]*self.m1,X[:,1]*self.m2],axis=0) + self.b + self.b\n",
    "    \n",
    "    def calc1(self,x):\n",
    "        return np.sum([x[0]*self.m1,x[1]*self.m2],axis=0) + self.b + self.b\n",
    "   \n",
    "    def eout(self):\n",
    "        X = np.random.uniform(-1.0,1.0,(100,2))\n",
    "        y = self.find_actual_y(X)\n",
    "        self.eout = self.mse(X,y)\n",
    "        preds = self.calc(X)\n",
    "        self.plot(y,preds)\n",
    "\n"
   ]
  },
  {
   "cell_type": "code",
   "execution_count": 349,
   "metadata": {},
   "outputs": [
    {
     "name": "stdout",
     "output_type": "stream",
     "text": [
      "0.49804861309235526\n"
     ]
    },
    {
     "data": {
      "image/png": "[encoded data removed]",
      "text/plain": [
       "<Figure size 432x288 with 1 Axes>"
      ]
     },
     "metadata": {
      "needs_background": "light"
     },
     "output_type": "display_data"
    }
   ],
   "source": [
    " i = GradientDescentLinReg(100)"
   ]
  },
  {
   "cell_type": "code",
   "execution_count": null,
   "metadata": {},
   "outputs": [],
   "source": []
  },
  {
   "cell_type": "code",
   "execution_count": null,
   "metadata": {},
   "outputs": [],
   "source": []
  }
 ],
 "metadata": {
  "kernelspec": {
   "display_name": "Python 3",
   "language": "python",
   "name": "python3"
  },
  "language_info": {
   "codemirror_mode": {
    "name": "ipython",
    "version": 3
   },
   "file_extension": ".py",
   "mimetype": "text/x-python",
   "name": "python",
   "nbconvert_exporter": "python",
   "pygments_lexer": "ipython3",
   "version": "3.8.4"
  }
 },
 "nbformat": 4,
 "nbformat_minor": 4
}
