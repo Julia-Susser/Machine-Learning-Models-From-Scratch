{
 "cells": [
  {
   "cell_type": "code",
   "execution_count": 1,
   "metadata": {},
   "outputs": [],
   "source": [
    "import numpy as np\n",
    "import pandas as pd\n",
    "import matplotlib.pyplot as plt"
   ]
  },
  {
   "cell_type": "code",
   "execution_count": 2,
   "metadata": {},
   "outputs": [
    {
     "name": "stdout",
     "output_type": "stream",
     "text": [
      "[[ 4 10]\n",
      " [10 30]]\n"
     ]
    },
    {
     "data": {
      "text/plain": [
       "array([[-1. ],\n",
       "       [ 1.3]])"
      ]
     },
     "execution_count": 2,
     "metadata": {},
     "output_type": "execute_result"
    }
   ],
   "source": [
    "\n",
    "\n",
    "class LinearRegression():\n",
    "    def __init__(self,X,y):\n",
    "        self.X = self.addThresh(X)\n",
    "        \n",
    "        self.y = y\n",
    "        self.XT = np.transpose(self.X)\n",
    "        self.XXT = np.matmul(self.XT,self.X)\n",
    "        self.iX = np.linalg.pinv(self.XXT)\n",
    "        self.w = np.matmul(np.matmul(self.iX,self.XT),self.y) \n",
    "        self.preds = self.calc(X)\n",
    "        \n",
    "    def addThresh(self, X):\n",
    "        return np.concatenate([[[1]for x in range(len(X))],X],axis=1)\n",
    "    def calc(self,X):\n",
    "        return np.matmul(self.addThresh(X),self.w)\n",
    "\n",
    "    \n",
    "X = [[1],[2],[3],[4]]\n",
    "y = [[0],[2],[3],[4]]\n",
    "linregLine = LinearRegression(X,y)\n",
    "linregLine.w"
   ]
  },
  {
   "cell_type": "code",
   "execution_count": null,
   "metadata": {},
   "outputs": [],
   "source": [
    "\n",
    "\n",
    "class LinearRegressionRegularization():\n",
    "    def __init__(self,X,y, Lambda):\n",
    "        self.X = self.addThresh(X)\n",
    "        self.y = y\n",
    "        self.Lambda = Lambda\n",
    "        \n",
    "        self.XT = np.transpose(self.X)\n",
    "        self.XXT = np.matmul(self.XT,self.X)\n",
    "        self.lm = np.multiply(self.Lambda, np.identity(self.XXT.shape[0]))\n",
    "        self.XXT_plus_lambda = np.add(self.XXT, self.lm)\n",
    "        self.iX = np.linalg.pinv(self.XXT_plus_lambda)\n",
    "        self.w = np.matmul(np.matmul(self.iX,self.XT),self.y) \n",
    "        self.preds = self.calc(X)\n",
    "        \n",
    "    def addThresh(self, X):\n",
    "        return np.concatenate([[[1]for x in range(len(X))],X],axis=1)\n",
    "    def calc(self,X):\n",
    "        return np.matmul(self.addThresh(X),self.w)\n",
    "\n",
    "    \n"
   ]
  }
 ],
 "metadata": {
  "kernelspec": {
   "display_name": "Python 3",
   "language": "python",
   "name": "python3"
  },
  "language_info": {
   "codemirror_mode": {
    "name": "ipython",
    "version": 3
   },
   "file_extension": ".py",
   "mimetype": "text/x-python",
   "name": "python",
   "nbconvert_exporter": "python",
   "pygments_lexer": "ipython3",
   "version": "3.8.4"
  }
 },
 "nbformat": 4,
 "nbformat_minor": 4
}
