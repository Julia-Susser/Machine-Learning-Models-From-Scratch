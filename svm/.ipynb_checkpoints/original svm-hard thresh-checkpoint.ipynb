{
 "cells": [
  {
   "cell_type": "code",
   "execution_count": 1,
   "metadata": {},
   "outputs": [],
   "source": [
    "import numpy as np\n",
    "from math import e\n",
    "import math\n",
    "import random\n",
    "import matplotlib.pyplot as plt\n",
    "import pandas as pd\n",
    "import seaborn as sns\n",
    "import copy\n",
    "import cvxopt as cvo\n",
    "from cvxopt import matrix\n",
    "import copy"
   ]
  },
  {
   "cell_type": "code",
   "execution_count": 13,
   "metadata": {},
   "outputs": [],
   "source": [
    "class Line():\n",
    "    def create_line(self):\n",
    "        x1,x2 = np.random.uniform(-1,1,2)\n",
    "        y1,y2 = np.random.uniform(-1,1,2)\n",
    "        self.slope = (y1-y2)/(x1-x2)\n",
    "        self.b = y1-self.slope*x1\n",
    "        \n",
    "    def calculate(self,x):\n",
    "        return self.slope*x+self.b\n",
    "    \n",
    "    def find_actual_y(self,X):\n",
    "        return [np.sign(y - self.calculate(x)) for x,y in X] #higher than line = 1\n",
    "\n",
    "\n",
    "class SVM:\n",
    "    def minimize(self):\n",
    "        cvo.solvers.options['show_progress'] = False\n",
    "        q = cvo.matrix(np.multiply(-1, np.ones((self.N,1))))\n",
    "        P = cvo.matrix(np.multiply(np.outer(self.y, self.y), np.matmul(self.X,self.X.T)))\n",
    "        A = cvo.matrix(self.y.reshape(1, -1), tc='d')\n",
    "        b = cvo.matrix(0.0)\n",
    "        G = cvo.matrix(np.multiply(-1, np.eye(self.N)))\n",
    "        h = cvo.matrix(np.zeros(self.N))\n",
    "        cvo_sol = cvo.solvers.qp(P,q,G,h,A,b)\n",
    "        self.alphas = np.ravel(cvo_sol['x'])\n",
    "        \n",
    "    \n",
    "    def get_svms(self):\n",
    "        return [idx for idx,an in enumerate(self.alphas) if an > 10**-5]\n",
    "   \n",
    "    def find_b(self):\n",
    "        idx = np.argmax(self.alphas)#maximum value is definetely support vector\n",
    "        xn = self.X[idx]\n",
    "        yn = self.y[idx]\n",
    "        return (1-yn*np.matmul(self.weights.T,xn))/yn\n",
    "    \n",
    "    def runSVM(self):\n",
    "        self.minimize()\n",
    "        self.weights = np.matmul(np.multiply(self.alphas,self.y),self.X)\n",
    "        self.svms = self.get_svms()\n",
    "        \n",
    "        self.weights = np.array([self.find_b()] + list(self.weights))\n",
    "\n",
    "class Plot():\n",
    "    def plot_line(self,x,w):\n",
    "        w0 = w[0]\n",
    "        w1 = w[1]\n",
    "        w2 = w[2]\n",
    "        return (-w0-(x*w1))/w2\n",
    "    def plot(self):\n",
    "        df = pd.DataFrame(np.concatenate([np.array(self.X),np.array(self.y).reshape(-1,1)],axis=1), columns = [\"x1\",\"x2\",\"y\"])\n",
    "        plt.scatter(df[df[\"y\"]==-1].x1,df[df[\"y\"]==-1].x2, color=\"r\")\n",
    "        plt.scatter(df[df[\"y\"]==1].x1,df[df[\"y\"]==1].x2, color=\"g\")\n",
    "\n",
    "        plt.plot([-1,1],[self.slope*x +self.b for x in [-1,1]], label=\"real split\")\n",
    "        plt.plot([-1,1],[self.plot_line(x,self.weights) for x in [-1,1]], label=\"SVM split\")\n",
    "        \n",
    "        plt.legend()\n",
    "        plt.xlim([-1, 1])\n",
    "        plt.ylim([-1, 1])\n",
    "        plt.show()\n",
    "        \n",
    "class create_test(Line,SVM, Plot):\n",
    "    def __init__(self,N):\n",
    "        \n",
    "        self.create_line()\n",
    "\n",
    "        self.N = N\n",
    "        self.X = np.random.uniform(-1.0,1.0,(self.N,2))\n",
    "        self.y = np.array(self.find_actual_y(self.X))\n",
    "        \n",
    "        self.runSVM()\n",
    "        \n",
    "        self.EoutSVM = self.Eout_error()\n",
    " \n",
    "        self.numSVMs = len(self.svms)\n",
    "        self.plot()\n",
    "        self.Print()\n",
    "        \n",
    "    def Print(self):\n",
    "\n",
    "        \n",
    "        print(\"SVM Ein Error %s\" % self.Ein_error())\n",
    "        print(\"SVM Eout Error %s\" % self.EoutSVM)\n",
    "        \n",
    "    def add_thresholdCol(self,X):\n",
    "        return np.concatenate([[[1]for x in range(len(X))],X],axis=1)  \n",
    "        \n",
    "    def calculate_preds(self,X):\n",
    "        w = self.weights\n",
    "        X = self.add_thresholdCol(X)\n",
    "        return np.sign(np.matmul(X, w.T))\n",
    "        \n",
    "    def Ein_error(self):\n",
    "        w = self.weights\n",
    "        preds = self.calculate_preds(self.X)\n",
    "        return np.count_nonzero(preds!=self.y)/self.N\n",
    "    \n",
    "    def Eout_error(self):\n",
    "        w = self.weights\n",
    "        X = np.random.uniform(-1.0,1.0,(1000,2))\n",
    "        y = self.find_actual_y(X)\n",
    "        preds = self.calculate_preds(X)\n",
    "        return np.count_nonzero(preds!=y)/1000"
   ]
  },
  {
   "cell_type": "code",
   "execution_count": 14,
   "metadata": {},
   "outputs": [
    {
     "data": {
      "image/png": "[encoded data removed]",
      "text/plain": [
       "<Figure size 432x288 with 1 Axes>"
      ]
     },
     "metadata": {
      "needs_background": "light"
     },
     "output_type": "display_data"
    },
    {
     "name": "stdout",
     "output_type": "stream",
     "text": [
      "SVM Ein Error 0.0\n",
      "SVM Eout Error 0.016\n"
     ]
    },
    {
     "data": {
      "text/plain": [
       "<__main__.create_test at 0x7fef88edf8e0>"
      ]
     },
     "execution_count": 14,
     "metadata": {},
     "output_type": "execute_result"
    }
   ],
   "source": [
    "create_test(10)"
   ]
  },
  {
   "cell_type": "code",
   "execution_count": null,
   "metadata": {},
   "outputs": [],
   "source": []
  }
 ],
 "metadata": {
  "kernelspec": {
   "display_name": "Python 3",
   "language": "python",
   "name": "python3"
  },
  "language_info": {
   "codemirror_mode": {
    "name": "ipython",
    "version": 3
   },
   "file_extension": ".py",
   "mimetype": "text/x-python",
   "name": "python",
   "nbconvert_exporter": "python",
   "pygments_lexer": "ipython3",
   "version": "3.8.4"
  }
 },
 "nbformat": 4,
 "nbformat_minor": 4
}
