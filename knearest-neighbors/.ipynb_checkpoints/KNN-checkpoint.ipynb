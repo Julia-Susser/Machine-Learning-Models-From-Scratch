{
 "cells": [
  {
   "cell_type": "code",
   "execution_count": 1,
   "metadata": {},
   "outputs": [],
   "source": [
    "import numpy as np\n",
    "from math import e\n",
    "import math\n",
    "import random\n",
    "import matplotlib.pyplot as plt\n",
    "import pandas as pd\n",
    "import seaborn as sns\n",
    "import copy"
   ]
  },
  {
   "cell_type": "code",
   "execution_count": 2,
   "metadata": {},
   "outputs": [],
   "source": [
    "class Line():\n",
    "    def create_line(self):\n",
    "        x1,x2 = np.random.uniform(-1,1,2)\n",
    "        y1,y2 = np.random.uniform(-1,1,2)\n",
    "        self.slope = (y1-y2)/(x1-x2)\n",
    "        self.b = y1-self.slope*x1\n",
    "        \n",
    "    def calculate(self,x):\n",
    "        return self.slope*x+self.b\n",
    "    \n",
    "    def find_actual_y(self,X):\n",
    "        return [np.sign(y - self.calculate(x)) for x,y in X] #higher than line = 1"
   ]
  },
  {
   "cell_type": "code",
   "execution_count": 16,
   "metadata": {},
   "outputs": [],
   "source": [
    "class KNearestNeighbors:\n",
    "    def __init__(self,n=5):\n",
    "        self.n = n\n",
    "    def fit(self,X,y):\n",
    "        self.X = X\n",
    "        self.y = y\n",
    "\n",
    "    def predict(self,x):\n",
    "        distances = {i:np.linalg.norm(x-xn)for i,xn in enumerate(self.X)}\n",
    "        topNindx = sorted(distances,key=distances.get)[:self.n]\n",
    "        finalHyp = np.average(self.y[topNindx])\n",
    "        return finalHyp\n",
    "    \n",
    "    def calculate_preds(self,X):\n",
    "        return [self.predict(x) for x in X]\n",
    "    \n",
    "    def Ein_error(self):\n",
    "        preds = self.calculate_preds(self.X)\n",
    "        return np.count_nonzero(preds!=self.y)/len(self.X)\n",
    "    \n",
    "    def score(self,X,y):\n",
    "        preds = self.calculate_preds(X)\n",
    "        return np.count_nonzero(preds!=y)/len(y)\n",
    "\n",
    "        \n",
    "class create_test(Line):\n",
    "    def __init__(self,N,hard_margin=True,kernel=False,C=.01,gamma=1):\n",
    "        self.create_line()\n",
    "\n",
    "        self.N = N\n",
    "        Xtrain = np.random.uniform(-1.0,1.0,(self.N,2))\n",
    "        ytrain = np.array(self.find_actual_y(Xtrain))\n",
    "        \n",
    "        Xtest = np.random.uniform(-1.0,1.0,(self.N,2))\n",
    "        ytest = np.array(self.find_actual_y(Xtest))\n",
    "        \n",
    "        knn = KNearestNeighbors(n=5)\n",
    "        knn.fit(Xtrain,ytrain)\n",
    "        print(\"Score %s\" %knn.score(Xtest,ytest))\n",
    "        print(\"Ein %s\" % knn.Ein_error())\n",
    "        "
   ]
  },
  {
   "cell_type": "code",
   "execution_count": 17,
   "metadata": {},
   "outputs": [
    {
     "name": "stdout",
     "output_type": "stream",
     "text": [
      "Score 0.24\n",
      "Ein 0.18\n"
     ]
    },
    {
     "data": {
      "text/plain": [
       "<__main__.create_test at 0x7fbebdf4be50>"
      ]
     },
     "execution_count": 17,
     "metadata": {},
     "output_type": "execute_result"
    }
   ],
   "source": [
    "create_test(100)"
   ]
  },
  {
   "cell_type": "code",
   "execution_count": null,
   "metadata": {},
   "outputs": [],
   "source": []
  }
 ],
 "metadata": {
  "kernelspec": {
   "display_name": "Python 3",
   "language": "python",
   "name": "python3"
  },
  "language_info": {
   "codemirror_mode": {
    "name": "ipython",
    "version": 3
   },
   "file_extension": ".py",
   "mimetype": "text/x-python",
   "name": "python",
   "nbconvert_exporter": "python",
   "pygments_lexer": "ipython3",
   "version": "3.8.4"
  }
 },
 "nbformat": 4,
 "nbformat_minor": 4
}
