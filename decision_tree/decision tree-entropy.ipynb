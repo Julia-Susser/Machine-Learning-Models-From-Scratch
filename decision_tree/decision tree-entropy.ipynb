{
 "cells": [
  {
   "cell_type": "code",
   "execution_count": 1,
   "metadata": {},
   "outputs": [],
   "source": [
    "import pandas as pd\n",
    "import ssl\n",
    "import numpy as np\n",
    "ssl._create_default_https_context = ssl._create_unverified_context\n",
    "df = pd.read_csv(\"https://raw.githubusercontent.com/cwhitz/git_intro_to_ml/master/heart.csv\")\n",
    "import math"
   ]
  },
  {
   "cell_type": "code",
   "execution_count": 2,
   "metadata": {},
   "outputs": [],
   "source": [
    "class Combos:\n",
    "    def findOptions(self,values):\n",
    "        if len(values) == 0:\n",
    "            return [values]\n",
    "        smaller = self.findOptions(values[1:])\n",
    "        return smaller + [[values[0]] + x for x in smaller]\n",
    "\n",
    "    def findCombos(self,vals):\n",
    "        options = []\n",
    "        duplicate_options = [([x for x in vals if x not in option], option) for option in self.findOptions(vals)]\n",
    "        for option in duplicate_options:\n",
    "            if (option[1],option[0]) not in options and len(option[0]) != len(vals) and len(option[1]) != len(vals):\n",
    "                options.append(option)\n",
    "        return options"
   ]
  },
  {
   "cell_type": "code",
   "execution_count": 3,
   "metadata": {},
   "outputs": [],
   "source": [
    "class SplitFunctions:\n",
    "    def getColValues(self,node, col):\n",
    "        return list(node[col].unique())\n",
    "   \n",
    "    def getNodesIndex(self,node, col, dtype,split):\n",
    "        if dtype == \"binary\":\n",
    "            return node[col]==split\n",
    "        if dtype == \"numerical\":\n",
    "            return node[col]<=split\n",
    "        if dtype == \"categorical\":\n",
    "            return node[col].isin(split[0])\n",
    "        \n",
    "    def findDtype(self, vals):\n",
    "        if len(vals)==2:\n",
    "            return \"binary\"\n",
    "        elif len(vals)>10:\n",
    "            return \"numerical\" \n",
    "        elif len(vals)<=10 and len(vals)>2:\n",
    "            return \"categorical\"\n",
    "        return None  \n",
    "       "
   ]
  },
  {
   "cell_type": "code",
   "execution_count": 4,
   "metadata": {},
   "outputs": [],
   "source": [
    "\n",
    "class Entropy: \n",
    "    def entropy(self,node):\n",
    "        entropy = 0\n",
    "        for k in self.types:\n",
    "            p = np.count_nonzero(node==k)/len(node)\n",
    "            if p != 0:\n",
    "                entropy += -p*math.log(p,2)\n",
    "        return entropy\n",
    "    def entropy_score(self,node_left,node_right):\n",
    "        m = len(node_left)+len(node_right)\n",
    "        i = len(node_left)\n",
    "        return i/m*self.entropy(node_left.target) + (m-i)/m*self.entropy(node_right.target)\n",
    "    \n",
    "    def findEntropyFromCol(self,node,col,dtype):\n",
    "        vals = self.getColValues(node,col)\n",
    "        if dtype == \"binary\":\n",
    "            splits = vals[:1]\n",
    "        elif dtype == \"numerical\":\n",
    "            splits = sorted(vals)[:-1]\n",
    "        elif dtype == \"categorical\":\n",
    "            splits = self.findCombos(vals)\n",
    "\n",
    "        nodes = [self.getNodesIndex(node, col, dtype,split) for split in splits]       \n",
    "        impurities = [self.entropy_score(node[indx],node[~indx]) for indx in nodes]\n",
    "        return {\"entropy\":min(impurities),\"col\":col,\"dtype\": dtype, \"split\": splits[impurities.index(min(impurities))]}\n",
    "  \n",
    "    \n",
    "    \n",
    "class Node:\n",
    "    def __init__(self,minEntropy):\n",
    "        self.col = minEntropy[\"col\"]\n",
    "        self.dtype = minEntropy[\"dtype\"]\n",
    "        self.split = minEntropy[\"split\"]\n",
    "        self.entropy = minEntropy[\"entropy\"]\n",
    "    def getCol(self):\n",
    "        return self.col\n",
    "    def getSplit(self):\n",
    "        return self.split\n",
    "    def newLevel(self,x):\n",
    "        if self.dtype == \"binary\":\n",
    "            return x[self.col]==self.split\n",
    "        if self.dtype == \"numerical\":\n",
    "            return x[self.col]<=self.split\n",
    "        if self.dtype == \"categorical\":\n",
    "            return x[self.col] in self.split[0]"
   ]
  },
  {
   "cell_type": "code",
   "execution_count": 9,
   "metadata": {},
   "outputs": [],
   "source": [
    "class DecisionTree(Entropy,Combos, SplitFunctions):\n",
    "    def __init__(self,X,y,maxDepth):\n",
    "        self.node = pd.concat([X,y],axis=1)\n",
    "        self.types = np.unique(y)\n",
    "        self.maxDepth = maxDepth\n",
    "        self.cols = {col : self.findDtype(self.getColValues(df,col)) for col in df.columns if col != \"target\"}\n",
    "        self.Tree = self.DecisionTree(df,0)\n",
    "        \n",
    "    def findMajority(self,node):\n",
    "        counts = [np.count_nonzero(node.target==k) for k in self.types]\n",
    "        return self.types[counts.index(max(counts))]\n",
    "    \n",
    "    def DecisionTree(self,node, depth):\n",
    "        cols_with_var_dist = np.count_nonzero([ self.findDtype(self.getColValues(node,col)) for col in node.columns if col!=\"target\"])\n",
    "        if depth == self.maxDepth or self.entropy(node)==0 or cols_with_var_dist==0:\n",
    "            return [self.findMajority(node)]\n",
    "       \n",
    "        minEntropy = {\"entropy\":1,\"col\":None,\"dtype\": None, \"split\": None}\n",
    "        \n",
    "        for col,dtype in self.cols.items():\n",
    "            \n",
    "            if self.findDtype(self.getColValues(node,col)) == None: continue\n",
    "            newEntropy = self.findEntropyFromCol(node, col,dtype)\n",
    "\n",
    "            if newEntropy[\"entropy\"] <= minEntropy[\"entropy\"]:\n",
    "                minEntropy = newEntropy\n",
    "        \n",
    "        indx = self.getNodesIndex(node,minEntropy[\"col\"], minEntropy[\"dtype\"],minEntropy[\"split\"])\n",
    "        node_left, node_right = node[indx],node[~indx]\n",
    "        return [Node(minEntropy),self.DecisionTree(node_left,depth+1),self.DecisionTree(node_right,depth+1)]\n",
    "    \n",
    "    \n",
    "    "
   ]
  },
  {
   "cell_type": "code",
   "execution_count": 10,
   "metadata": {},
   "outputs": [
    {
     "name": "stdout",
     "output_type": "stream",
     "text": [
      "[<__main__.Node object at 0x7fdaecea7790>, [1], [0]]\n"
     ]
    }
   ],
   "source": [
    "Tree = DecisionTree(Xtrain,ytrain,1).Tree\n",
    "print(Tree)"
   ]
  },
  {
   "cell_type": "code",
   "execution_count": 2,
   "metadata": {},
   "outputs": [],
   "source": [
    "from sklearn.utils import shuffle\n",
    "df = shuffle(df)\n",
    "y = df.target\n",
    "X = df.drop(\"target\",axis=1)\n",
    "Xtrain= X.head(200)\n",
    "Xtest = X.tail(103)\n",
    "ytrain= y.head(200)\n",
    "ytest = y.tail(103)"
   ]
  },
  {
   "cell_type": "code",
   "execution_count": 156,
   "metadata": {},
   "outputs": [],
   "source": [
    "class Predict:\n",
    "    def __init__(self,x,Tree):\n",
    "        \n",
    "        while len(Tree) > 1:\n",
    "            treeLevel = Tree[0]\n",
    "            direction = 1 if treeLevel.newLevel(x) else 2\n",
    "            Tree = Tree[direction]\n",
    "        self.pred = Tree[0]"
   ]
  },
  {
   "cell_type": "code",
   "execution_count": 157,
   "metadata": {},
   "outputs": [
    {
     "name": "stdout",
     "output_type": "stream",
     "text": [
      "0.44660194174757284\n"
     ]
    }
   ],
   "source": [
    "false = 0\n",
    "for i in range(len(Xtest)):\n",
    "    if Predict(Xtest.iloc[i],Tree).pred!=y[i]: \n",
    "        false += 1\n",
    "\n",
    "print(false/len(Xtest))"
   ]
  },
  {
   "cell_type": "code",
   "execution_count": 4,
   "metadata": {},
   "outputs": [],
   "source": [
    "Xtrain = Xtrain.replace(0,0.3)"
   ]
  },
  {
   "cell_type": "code",
   "execution_count": 5,
   "metadata": {},
   "outputs": [
    {
     "name": "stdout",
     "output_type": "stream",
     "text": [
      "0.7087378640776699\n",
      "9\n"
     ]
    }
   ],
   "source": [
    "from sklearn.tree import DecisionTreeClassifier\n",
    "clf = DecisionTreeClassifier(random_state = 0, max_depth = 10)\n",
    "clf.fit(Xtrain, ytrain)\n",
    "print(clf.score(Xtest, ytest))\n",
    "print(clf.tree_.max_depth)"
   ]
  },
  {
   "cell_type": "code",
   "execution_count": 141,
   "metadata": {},
   "outputs": [
    {
     "data": {
      "text/plain": [
       "'thal'"
      ]
     },
     "execution_count": 141,
     "metadata": {},
     "output_type": "execute_result"
    }
   ],
   "source": [
    "Tree[0].col"
   ]
  },
  {
   "cell_type": "code",
   "execution_count": 7,
   "metadata": {},
   "outputs": [],
   "source": [
    "from sklearn import tree\n",
    "from subprocess import check_call"
   ]
  },
  {
   "cell_type": "code",
   "execution_count": 8,
   "metadata": {},
   "outputs": [
    {
     "name": "stdout",
     "output_type": "stream",
     "text": [
      "|--- feature_2 <= 0.65\n",
      "|   |--- feature_11 <= 0.65\n",
      "|   |   |--- feature_12 <= 2.50\n",
      "|   |   |   |--- feature_9 <= 1.70\n",
      "|   |   |   |   |--- feature_7 <= 96.50\n",
      "|   |   |   |   |   |--- class: 0\n",
      "|   |   |   |   |--- feature_7 >  96.50\n",
      "|   |   |   |   |   |--- feature_0 <= 58.50\n",
      "|   |   |   |   |   |   |--- class: 1\n",
      "|   |   |   |   |   |--- feature_0 >  58.50\n",
      "|   |   |   |   |   |   |--- feature_0 <= 61.50\n",
      "|   |   |   |   |   |   |   |--- class: 0\n",
      "|   |   |   |   |   |   |--- feature_0 >  61.50\n",
      "|   |   |   |   |   |   |   |--- class: 1\n",
      "|   |   |   |--- feature_9 >  1.70\n",
      "|   |   |   |   |--- feature_6 <= 0.65\n",
      "|   |   |   |   |   |--- class: 1\n",
      "|   |   |   |   |--- feature_6 >  0.65\n",
      "|   |   |   |   |   |--- class: 0\n",
      "|   |   |--- feature_12 >  2.50\n",
      "|   |   |   |--- feature_0 <= 58.00\n",
      "|   |   |   |   |--- feature_10 <= 1.50\n",
      "|   |   |   |   |   |--- class: 0\n",
      "|   |   |   |   |--- feature_10 >  1.50\n",
      "|   |   |   |   |   |--- feature_0 <= 42.00\n",
      "|   |   |   |   |   |   |--- class: 0\n",
      "|   |   |   |   |   |--- feature_0 >  42.00\n",
      "|   |   |   |   |   |   |--- class: 1\n",
      "|   |   |   |--- feature_0 >  58.00\n",
      "|   |   |   |   |--- class: 1\n",
      "|   |--- feature_11 >  0.65\n",
      "|   |   |--- feature_3 <= 109.00\n",
      "|   |   |   |--- class: 1\n",
      "|   |   |--- feature_3 >  109.00\n",
      "|   |   |   |--- feature_9 <= 0.25\n",
      "|   |   |   |   |--- feature_7 <= 118.50\n",
      "|   |   |   |   |   |--- class: 1\n",
      "|   |   |   |   |--- feature_7 >  118.50\n",
      "|   |   |   |   |   |--- class: 0\n",
      "|   |   |   |--- feature_9 >  0.25\n",
      "|   |   |   |   |--- class: 0\n",
      "|--- feature_2 >  0.65\n",
      "|   |--- feature_9 <= 2.20\n",
      "|   |   |--- feature_3 <= 153.00\n",
      "|   |   |   |--- feature_11 <= 0.65\n",
      "|   |   |   |   |--- feature_9 <= 1.70\n",
      "|   |   |   |   |   |--- feature_4 <= 328.00\n",
      "|   |   |   |   |   |   |--- feature_3 <= 109.00\n",
      "|   |   |   |   |   |   |   |--- feature_7 <= 153.00\n",
      "|   |   |   |   |   |   |   |   |--- feature_7 <= 147.50\n",
      "|   |   |   |   |   |   |   |   |   |--- class: 1\n",
      "|   |   |   |   |   |   |   |   |--- feature_7 >  147.50\n",
      "|   |   |   |   |   |   |   |   |   |--- class: 0\n",
      "|   |   |   |   |   |   |   |--- feature_7 >  153.00\n",
      "|   |   |   |   |   |   |   |   |--- class: 1\n",
      "|   |   |   |   |   |   |--- feature_3 >  109.00\n",
      "|   |   |   |   |   |   |   |--- class: 1\n",
      "|   |   |   |   |   |--- feature_4 >  328.00\n",
      "|   |   |   |   |   |   |--- feature_1 <= 0.65\n",
      "|   |   |   |   |   |   |   |--- class: 1\n",
      "|   |   |   |   |   |   |--- feature_1 >  0.65\n",
      "|   |   |   |   |   |   |   |--- class: 0\n",
      "|   |   |   |   |--- feature_9 >  1.70\n",
      "|   |   |   |   |   |--- feature_4 <= 247.50\n",
      "|   |   |   |   |   |   |--- class: 1\n",
      "|   |   |   |   |   |--- feature_4 >  247.50\n",
      "|   |   |   |   |   |   |--- class: 0\n",
      "|   |   |   |--- feature_11 >  0.65\n",
      "|   |   |   |   |--- feature_9 <= 0.55\n",
      "|   |   |   |   |   |--- class: 1\n",
      "|   |   |   |   |--- feature_9 >  0.55\n",
      "|   |   |   |   |   |--- feature_10 <= 1.50\n",
      "|   |   |   |   |   |   |--- feature_11 <= 2.00\n",
      "|   |   |   |   |   |   |   |--- class: 0\n",
      "|   |   |   |   |   |   |--- feature_11 >  2.00\n",
      "|   |   |   |   |   |   |   |--- class: 1\n",
      "|   |   |   |   |   |--- feature_10 >  1.50\n",
      "|   |   |   |   |   |   |--- feature_11 <= 2.50\n",
      "|   |   |   |   |   |   |   |--- class: 1\n",
      "|   |   |   |   |   |   |--- feature_11 >  2.50\n",
      "|   |   |   |   |   |   |   |--- class: 0\n",
      "|   |   |--- feature_3 >  153.00\n",
      "|   |   |   |--- feature_8 <= 0.65\n",
      "|   |   |   |   |--- feature_7 <= 157.00\n",
      "|   |   |   |   |   |--- class: 1\n",
      "|   |   |   |   |--- feature_7 >  157.00\n",
      "|   |   |   |   |   |--- class: 0\n",
      "|   |   |   |--- feature_8 >  0.65\n",
      "|   |   |   |   |--- class: 0\n",
      "|   |--- feature_9 >  2.20\n",
      "|   |   |--- feature_10 <= 0.65\n",
      "|   |   |   |--- class: 1\n",
      "|   |   |--- feature_10 >  0.65\n",
      "|   |   |   |--- class: 0\n",
      "\n"
     ]
    }
   ],
   "source": [
    "text_representation = tree.export_text(clf)\n",
    "print(text_representation)"
   ]
  },
  {
   "cell_type": "code",
   "execution_count": 158,
   "metadata": {},
   "outputs": [
    {
     "data": {
      "text/plain": [
       "-1.0"
      ]
     },
     "execution_count": 158,
     "metadata": {},
     "output_type": "execute_result"
    }
   ],
   "source": [
    "math.log(.5,2)"
   ]
  },
  {
   "cell_type": "code",
   "execution_count": null,
   "metadata": {},
   "outputs": [],
   "source": []
  }
 ],
 "metadata": {
  "kernelspec": {
   "display_name": "Python 3",
   "language": "python",
   "name": "python3"
  },
  "language_info": {
   "codemirror_mode": {
    "name": "ipython",
    "version": 3
   },
   "file_extension": ".py",
   "mimetype": "text/x-python",
   "name": "python",
   "nbconvert_exporter": "python",
   "pygments_lexer": "ipython3",
   "version": "3.8.4"
  }
 },
 "nbformat": 4,
 "nbformat_minor": 4
}
