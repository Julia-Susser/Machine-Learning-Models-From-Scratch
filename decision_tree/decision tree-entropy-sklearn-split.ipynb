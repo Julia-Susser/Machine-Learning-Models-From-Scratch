{
 "cells": [
  {
   "cell_type": "code",
   "execution_count": 2,
   "metadata": {},
   "outputs": [],
   "source": [
    "import pandas as pd\n",
    "import ssl\n",
    "import numpy as np\n",
    "ssl._create_default_https_context = ssl._create_unverified_context\n",
    "df = pd.read_csv(\"https://raw.githubusercontent.com/cwhitz/git_intro_to_ml/master/heart.csv\")\n",
    "import math"
   ]
  },
  {
   "cell_type": "code",
   "execution_count": 32,
   "metadata": {},
   "outputs": [],
   "source": [
    "from sklearn.utils import shuffle\n",
    "df = shuffle(df)\n",
    "y = df.target\n",
    "X = df.drop(\"target\",axis=1)\n",
    "Xtrain= X.head(200)\n",
    "Xtest = X.tail(103)\n",
    "ytrain= y.head(200)\n",
    "ytest = y.tail(103)"
   ]
  },
  {
   "cell_type": "code",
   "execution_count": 102,
   "metadata": {},
   "outputs": [],
   "source": [
    "\n",
    "class Entropy: \n",
    "    def entropy(self,node):\n",
    "        entropy = 0\n",
    "        for classVal in self.class_probs:\n",
    "            class_prob = np.count_nonzero(node==classVal)/len(node)\n",
    "            if class_prob != 0:\n",
    "                entropy += -class_prob*math.log(class_prob,2)\n",
    "        return entropy\n",
    "    def entropy_score(self,node_left,node_right):\n",
    "        m = len(node_left)+len(node_right)\n",
    "        i = len(node_left)\n",
    "        return i/m*self.entropy(node_left.target) + (m-i)/m*self.entropy(node_right.target)\n",
    "    \n",
    "    def findEntropyFromCol(self,node,col):\n",
    "        vals = self.getColValues(node,col)\n",
    "        splits = [(vals[i]+vals[i+1])/2 for i in range(len(vals)-1)]\n",
    "        nodes = [node[col]<=split for split in splits]  \n",
    "        impurities = [self.entropy_score(node[indx],node[~indx]) for indx in nodes]\n",
    "        return {\"entropy\":min(impurities),\"col\":col, \"split\": splits[impurities.index(min(impurities))]}\n",
    "  \n",
    "    \n",
    "    \n",
    "class Node:\n",
    "    def __init__(self,minEntropy):\n",
    "        self.col = minEntropy[\"col\"]\n",
    "        self.split = minEntropy[\"split\"]\n",
    "        self.entropy = minEntropy[\"entropy\"]\n",
    "    \n",
    "    def newLevel(self,x):\n",
    "        return x[self.col]<=self.split"
   ]
  },
  {
   "cell_type": "code",
   "execution_count": 103,
   "metadata": {},
   "outputs": [],
   "source": [
    "class DecisionTree(Entropy,SplitFunctions):\n",
    "    def __init__(self,X,y,maxDepth):\n",
    "        self.cols = X.columns\n",
    "        self.node = pd.concat([X,y],axis=1)\n",
    "        self.class_probs = np.unique(y)\n",
    "        self.maxDepth = maxDepth\n",
    "        self.Tree = self.DecisionTree(df,0)\n",
    "        \n",
    "    def findMajority(self,node):\n",
    "        vals = node.target.value_counts()\n",
    "        return vals.index[list(vals).index(max(vals))]\n",
    "    \n",
    "    def getColValues(self,node, col):\n",
    "        return sorted(list(node[col].unique()))\n",
    "    \n",
    "    def findMinEntropy(self,node):\n",
    "        minEntropy = {\"entropy\":1,\"col\":None, \"split\": None}\n",
    "        \n",
    "        for col in self.cols:\n",
    "            \n",
    "            if len(self.getColValues(node,col))<=1: continue\n",
    "            newEntropy = self.findEntropyFromCol(node, col)\n",
    "\n",
    "            if newEntropy[\"entropy\"] <= minEntropy[\"entropy\"]:\n",
    "                minEntropy = newEntropy\n",
    "                \n",
    "        return minEntropy\n",
    "    \n",
    "    def DecisionTree(self,node, depth):\n",
    "        cols_with_var_dist = np.count_nonzero([len(self.getColValues(node,col))>1 for col in node.columns if col!=\"target\"])\n",
    "        \n",
    "        if depth == self.maxDepth or self.entropy(node)==0 or cols_with_var_dist==0:\n",
    "            return [self.findMajority(node)]\n",
    "       \n",
    "        minEntropy = self.findMinEntropy(node)\n",
    "        \n",
    "        indx = node[minEntropy[\"col\"]]<=minEntropy[\"split\"]\n",
    "        node_left, node_right = node[indx],node[~indx]\n",
    "       \n",
    "        return [Node(minEntropy),self.DecisionTree(node_left,depth+1),self.DecisionTree(node_right,depth+1)]\n",
    "    \n",
    "    \n",
    "    "
   ]
  },
  {
   "cell_type": "code",
   "execution_count": 104,
   "metadata": {},
   "outputs": [
    {
     "name": "stdout",
     "output_type": "stream",
     "text": [
      "[<__main__.Node object at 0x7ff837a45130>, [<__main__.Node object at 0x7ff837a790a0>, [1], [0]], [<__main__.Node object at 0x7ff837a79670>, [1], [1]]]\n"
     ]
    }
   ],
   "source": [
    "Tree = DecisionTree(Xtrain,ytrain,2).Tree\n",
    "print(Tree)"
   ]
  },
  {
   "cell_type": "code",
   "execution_count": 105,
   "metadata": {},
   "outputs": [],
   "source": [
    "class Predict:\n",
    "    def __init__(self,x,Tree):\n",
    "        while len(Tree) > 1:\n",
    "            treeLevel = Tree[0]\n",
    "            direction = 1 if treeLevel.newLevel(x) else 2\n",
    "            Tree = Tree[direction]\n",
    "        self.pred = Tree[0]"
   ]
  },
  {
   "cell_type": "code",
   "execution_count": 107,
   "metadata": {},
   "outputs": [
    {
     "name": "stdout",
     "output_type": "stream",
     "text": [
      "0.24271844660194175\n"
     ]
    }
   ],
   "source": [
    "false = 0\n",
    "for i in range(len(Xtest)):\n",
    "    if Predict(Xtest.iloc[i],Tree).pred!=ytest.iloc[i]: \n",
    "        false += 1\n",
    "\n",
    "print(false/len(Xtest))"
   ]
  },
  {
   "cell_type": "code",
   "execution_count": 109,
   "metadata": {},
   "outputs": [
    {
     "name": "stdout",
     "output_type": "stream",
     "text": [
      "0.7572815533980582\n",
      "2\n",
      "0.24271844660194175\n"
     ]
    },
    {
     "data": {
      "text/plain": [
       "array([1, 1, 1, 1, 1, 1, 1, 1, 1, 1, 0, 1, 1, 1, 1, 0, 1, 1, 0, 1, 1, 1,\n",
       "       1, 1, 0, 1, 0, 1, 0, 1, 1, 1, 0, 0, 0, 0, 0, 0, 1, 1, 0, 1, 1, 0,\n",
       "       1, 1, 1, 1, 1, 1, 0, 1, 1, 1, 1, 1, 1, 1, 1, 1, 1, 1, 1, 0, 1, 1,\n",
       "       1, 1, 1, 1, 1, 1, 1, 1, 1, 1, 0, 1, 1, 1, 1, 0, 1, 1, 0, 1, 0, 1,\n",
       "       1, 1, 0, 1, 1, 0, 1, 0, 1, 1, 1, 0, 1, 1, 1])"
      ]
     },
     "execution_count": 109,
     "metadata": {},
     "output_type": "execute_result"
    }
   ],
   "source": [
    "from sklearn.tree import DecisionTreeClassifier\n",
    "clf = DecisionTreeClassifier(random_state = 0, max_depth = 2)\n",
    "clf.fit(Xtrain, ytrain)\n",
    "print(clf.score(Xtest, ytest))\n",
    "print(clf.tree_.max_depth)\n",
    "print(np.count_nonzero(clf.predict(Xtest)!=ytest)/len(Xtest))\n",
    "clf.predict(Xtest)"
   ]
  },
  {
   "cell_type": "code",
   "execution_count": 4,
   "metadata": {},
   "outputs": [],
   "source": [
    "from sklearn import tree\n",
    "from subprocess import check_call"
   ]
  },
  {
   "cell_type": "code",
   "execution_count": 87,
   "metadata": {},
   "outputs": [
    {
     "name": "stdout",
     "output_type": "stream",
     "text": [
      "|--- feature_2 <= 0.50\n",
      "|   |--- feature_11 <= 0.50\n",
      "|   |   |--- class: 1\n",
      "|   |--- feature_11 >  0.50\n",
      "|   |   |--- class: 0\n",
      "|--- feature_2 >  0.50\n",
      "|   |--- feature_0 <= 56.50\n",
      "|   |   |--- class: 1\n",
      "|   |--- feature_0 >  56.50\n",
      "|   |   |--- class: 1\n",
      "\n"
     ]
    }
   ],
   "source": [
    "text_representation = tree.export_text(clf)\n",
    "print(text_representation)"
   ]
  },
  {
   "cell_type": "code",
   "execution_count": 158,
   "metadata": {},
   "outputs": [
    {
     "data": {
      "text/plain": [
       "-1.0"
      ]
     },
     "execution_count": 158,
     "metadata": {},
     "output_type": "execute_result"
    }
   ],
   "source": [
    "math.log(.5,2)"
   ]
  },
  {
   "cell_type": "code",
   "execution_count": null,
   "metadata": {},
   "outputs": [],
   "source": [
    "{0.25(g1(xn) + g2(xn))2 - 2yn(g1(xn) + g2(xn))+yn2}"
   ]
  }
 ],
 "metadata": {
  "kernelspec": {
   "display_name": "Python 3",
   "language": "python",
   "name": "python3"
  },
  "language_info": {
   "codemirror_mode": {
    "name": "ipython",
    "version": 3
   },
   "file_extension": ".py",
   "mimetype": "text/x-python",
   "name": "python",
   "nbconvert_exporter": "python",
   "pygments_lexer": "ipython3",
   "version": "3.8.4"
  }
 },
 "nbformat": 4,
 "nbformat_minor": 4
}
