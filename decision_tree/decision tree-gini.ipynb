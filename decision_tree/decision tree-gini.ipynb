{
 "cells": [
  {
   "cell_type": "code",
   "execution_count": 75,
   "metadata": {},
   "outputs": [],
   "source": [
    "import pandas as pd\n",
    "import ssl\n",
    "import numpy as np\n",
    "ssl._create_default_https_context = ssl._create_unverified_context\n",
    "df = pd.read_csv(\"https://raw.githubusercontent.com/cwhitz/git_intro_to_ml/master/heart.csv\")\n"
   ]
  },
  {
   "cell_type": "code",
   "execution_count": 56,
   "metadata": {},
   "outputs": [],
   "source": [
    "class Combos:\n",
    "    def findOptions(self,values):\n",
    "        if len(values) == 0:\n",
    "            return [values]\n",
    "        smaller = self.findOptions(values[1:])\n",
    "        return smaller + [[values[0]] + x for x in smaller]\n",
    "\n",
    "    def findCombos(self,vals):\n",
    "        options = []\n",
    "        duplicate_options = [([x for x in vals if x not in option], option) for option in self.findOptions(vals)]\n",
    "        for option in duplicate_options:\n",
    "            if (option[1],option[0]) not in options and len(option[0]) != len(vals) and len(option[1]) != len(vals):\n",
    "                options.append(option)\n",
    "        return options"
   ]
  },
  {
   "cell_type": "code",
   "execution_count": 57,
   "metadata": {},
   "outputs": [],
   "source": [
    "class SplitFunctions:\n",
    "    def getColValues(self,node, col):\n",
    "        return list(node[col].unique())\n",
    "   \n",
    "    def getNodesIndex(self,node, col, dtype,split):\n",
    "        if dtype == \"binary\":\n",
    "            return node[col]==split\n",
    "        if dtype == \"numerical\":\n",
    "            return node[col]<=split\n",
    "        if dtype == \"categorical\":\n",
    "            return node[col].isin(split[0])\n",
    "        \n",
    "    def findDtype(self, vals):\n",
    "        if len(vals)==2:\n",
    "            return \"binary\"\n",
    "        elif len(vals)>10:\n",
    "            return \"numerical\" \n",
    "        elif len(vals)<=10 and len(vals)>2:\n",
    "            return \"categorical\"\n",
    "        return None  \n",
    "       "
   ]
  },
  {
   "cell_type": "code",
   "execution_count": 58,
   "metadata": {},
   "outputs": [],
   "source": [
    "\n",
    "class Gini: \n",
    "    def gini_impurity(self,node):\n",
    "        return 1-sum([(np.count_nonzero(node==k)/len(node))**2 for k in self.types])\n",
    "    def gini_impurity_score(self,node_left,node_right):\n",
    "        m = len(node_left)+len(node_right)\n",
    "        i = len(node_left)\n",
    "        return i/m*self.gini_impurity(node_left.target) + (m-i)/m*self.gini_impurity(node_right.target)\n",
    "    \n",
    "    def findGiniImpurityFromCol(self,node,col,dtype):\n",
    "        vals = self.getColValues(node,col)\n",
    "        if dtype == \"binary\":\n",
    "            splits = vals[:1]\n",
    "        elif dtype == \"numerical\":\n",
    "            splits = sorted(vals)[:-1]\n",
    "        elif dtype == \"categorical\":\n",
    "            splits = self.findCombos(vals)\n",
    "\n",
    "        nodes = [self.getNodesIndex(node, col, dtype,split) for split in splits]       \n",
    "        impurities = [self.gini_impurity_score(node[indx],node[~indx]) for indx in nodes]\n",
    "        return {\"gini\":min(impurities),\"col\":col,\"dtype\": dtype, \"split\": splits[impurities.index(min(impurities))]}\n",
    "  \n",
    "    \n",
    "    \n",
    "class Node:\n",
    "    def __init__(self,minGini):\n",
    "        self.col = minGini[\"col\"]\n",
    "        self.dtype = minGini[\"dtype\"]\n",
    "        self.split = minGini[\"split\"]\n",
    "        self.gini = minGini[\"gini\"]\n",
    "    def getCol(self):\n",
    "        return self.col\n",
    "    def getSplit(self):\n",
    "        return self.split"
   ]
  },
  {
   "cell_type": "code",
   "execution_count": 163,
   "metadata": {},
   "outputs": [],
   "source": [
    "class DecisionTree(Gini,Combos, SplitFunctions):\n",
    "    def __init__(self,X,y,maxDepth):\n",
    "        self.node = pd.concat([X,y],axis=1)\n",
    "        self.types = np.unique(y)\n",
    "        self.maxDepth = maxDepth\n",
    "        self.cols = {col : self.findDtype(self.getColValues(df,col)) for col in df.columns if col != \"target\"}\n",
    "        self.Tree = self.DecisionTree(df,0)\n",
    "        \n",
    "    def findMajority(self,node):\n",
    "        counts = [np.count_nonzero(node.target==k) for k in self.types]\n",
    "        return self.types[counts.index(max(counts))]\n",
    "    \n",
    "    def DecisionTree(self,node, depth):\n",
    "        cols_with_var_dist = np.count_nonzero([ self.findDtype(self.getColValues(node,col)) for col in node.columns if col!=\"target\"])\n",
    "        if depth == self.maxDepth or self.gini_impurity(node)==0 or cols_with_var_dist==0:\n",
    "            return [self.findMajority(node)]\n",
    "        minGini = {\"gini\":.5,\"col\":None,\"dtype\": None, \"split\": None}\n",
    "        for col,dtype in self.cols.items():\n",
    "            if self.findDtype(self.getColValues(node,col)) == None: continue\n",
    "            newGini = self.findGiniImpurityFromCol(node, col,dtype)\n",
    "            print(col, newGini[\"gini\"],newGini[\"split\"])\n",
    "            if newGini[\"gini\"] <= minGini[\"gini\"]:\n",
    "                minGini = newGini\n",
    "        indx = self.getNodesIndex(node,minGini[\"col\"], minGini[\"dtype\"],minGini[\"split\"])\n",
    "        node_left, node_right = node[indx],node[~indx]\n",
    "        return [Node(minGini),self.DecisionTree(node_left,depth+1),self.DecisionTree(node_right,depth+1)]\n",
    "    \n",
    "    \n",
    "    "
   ]
  },
  {
   "cell_type": "code",
   "execution_count": 164,
   "metadata": {},
   "outputs": [],
   "source": [
    "class Predict:\n",
    "    def newLevel(self,x, col, dtype,split): #decides whether the x should go right or left based on whether the condition is false or true\n",
    "        if dtype == \"binary\":\n",
    "            return x[col]==split\n",
    "        if dtype == \"numerical\":\n",
    "            return x[col]<=split\n",
    "        if dtype == \"categorical\":\n",
    "            return x[col] in split[1]\n",
    "    def __init__(self,x,Tree):\n",
    "        \n",
    "        while len(Tree) > 1:\n",
    "            treeLevel = Tree[0]\n",
    "            direction = 1 if self.newLevel(x,treeLevel.col,treeLevel.dtype,treeLevel.split) else 2\n",
    "            Tree = Tree[direction]\n",
    "        self.pred = Tree[0]"
   ]
  },
  {
   "cell_type": "code",
   "execution_count": 165,
   "metadata": {},
   "outputs": [
    {
     "name": "stdout",
     "output_type": "stream",
     "text": [
      "age 0.4553348416602667 54\n",
      "sex 0.45688047065576126 1\n",
      "cp 0.3639513951395139 ([2, 1, 3], [0])\n",
      "trestbps 0.48575283174147954 142\n",
      "chol 0.48403402368662907 245\n",
      "fbs 0.49563964148352824 0\n",
      "restecg 0.4807829685024968 ([1], [0, 2])\n",
      "thalach 0.4091608964046012 147\n",
      "exang 0.40140876832781325 1\n",
      "oldpeak 0.41441363539162834 1.6\n",
      "slope 0.41900217490911884 ([2], [0, 1])\n",
      "ca 0.37908538821361815 ([1, 2, 3], [0, 4])\n",
      "thal 0.35809349996647716 ([3, 1, 0], [2])\n",
      "[<__main__.Node object at 0x7fc922221880>, [0], [1]]\n"
     ]
    }
   ],
   "source": [
    "Tree2 = DecisionTree(Xtrain,ytrain,1).Tree\n",
    "print(Tree2)"
   ]
  },
  {
   "cell_type": "code",
   "execution_count": 115,
   "metadata": {},
   "outputs": [],
   "source": [
    "from sklearn.utils import shuffle\n",
    "df = shuffle(df)\n",
    "y = df.target\n",
    "X = df.drop(\"target\",axis=1)\n",
    "Xtrain= X.head(200)\n",
    "Xtest = X.tail(103)\n",
    "ytrain= y.head(200)\n",
    "ytest = y.tail(103)"
   ]
  },
  {
   "cell_type": "code",
   "execution_count": 120,
   "metadata": {},
   "outputs": [
    {
     "name": "stdout",
     "output_type": "stream",
     "text": [
      "52\n",
      "0.5048543689320388\n"
     ]
    }
   ],
   "source": [
    "false = 0\n",
    "for i in range(len(Xtest)):\n",
    "    if Predict(Xtest.iloc[i],Tree).pred!=y[i]: false += 1\n",
    "print(false)\n",
    "print(false/len(Xtest))"
   ]
  },
  {
   "cell_type": "code",
   "execution_count": 127,
   "metadata": {},
   "outputs": [
    {
     "name": "stdout",
     "output_type": "stream",
     "text": [
      "0.7669902912621359\n",
      "8\n"
     ]
    }
   ],
   "source": [
    "from sklearn.tree import DecisionTreeClassifier\n",
    "clf = DecisionTreeClassifier(random_state = 0, max_depth = 10)\n",
    "clf.fit(Xtrain, ytrain)\n",
    "print(clf.score(Xtest, ytest))\n",
    "print(clf.tree_.max_depth)"
   ]
  },
  {
   "cell_type": "code",
   "execution_count": 141,
   "metadata": {},
   "outputs": [
    {
     "data": {
      "text/plain": [
       "'thal'"
      ]
     },
     "execution_count": 141,
     "metadata": {},
     "output_type": "execute_result"
    }
   ],
   "source": [
    "Tree[0].col"
   ]
  },
  {
   "cell_type": "code",
   "execution_count": 131,
   "metadata": {},
   "outputs": [],
   "source": [
    "from sklearn import tree\n",
    "from subprocess import check_call"
   ]
  },
  {
   "cell_type": "code",
   "execution_count": 137,
   "metadata": {},
   "outputs": [
    {
     "name": "stdout",
     "output_type": "stream",
     "text": [
      "|--- feature_2 <= 0.50\n",
      "|   |--- feature_11 <= 0.50\n",
      "|   |   |--- feature_12 <= 2.50\n",
      "|   |   |   |--- feature_7 <= 146.00\n",
      "|   |   |   |   |--- feature_6 <= 0.50\n",
      "|   |   |   |   |   |--- class: 1\n",
      "|   |   |   |   |--- feature_6 >  0.50\n",
      "|   |   |   |   |   |--- feature_3 <= 115.00\n",
      "|   |   |   |   |   |   |--- class: 1\n",
      "|   |   |   |   |   |--- feature_3 >  115.00\n",
      "|   |   |   |   |   |   |--- class: 0\n",
      "|   |   |   |--- feature_7 >  146.00\n",
      "|   |   |   |   |--- feature_4 <= 327.50\n",
      "|   |   |   |   |   |--- class: 1\n",
      "|   |   |   |   |--- feature_4 >  327.50\n",
      "|   |   |   |   |   |--- feature_9 <= 0.30\n",
      "|   |   |   |   |   |   |--- class: 0\n",
      "|   |   |   |   |   |--- feature_9 >  0.30\n",
      "|   |   |   |   |   |   |--- class: 1\n",
      "|   |   |--- feature_12 >  2.50\n",
      "|   |   |   |--- feature_9 <= 0.45\n",
      "|   |   |   |   |--- feature_4 <= 254.00\n",
      "|   |   |   |   |   |--- class: 1\n",
      "|   |   |   |   |--- feature_4 >  254.00\n",
      "|   |   |   |   |   |--- class: 0\n",
      "|   |   |   |--- feature_9 >  0.45\n",
      "|   |   |   |   |--- class: 0\n",
      "|   |--- feature_11 >  0.50\n",
      "|   |   |--- feature_9 <= 0.40\n",
      "|   |   |   |--- feature_7 <= 106.50\n",
      "|   |   |   |   |--- class: 1\n",
      "|   |   |   |--- feature_7 >  106.50\n",
      "|   |   |   |   |--- feature_1 <= 0.50\n",
      "|   |   |   |   |   |--- class: 1\n",
      "|   |   |   |   |--- feature_1 >  0.50\n",
      "|   |   |   |   |   |--- feature_3 <= 109.00\n",
      "|   |   |   |   |   |   |--- feature_4 <= 233.50\n",
      "|   |   |   |   |   |   |   |--- class: 1\n",
      "|   |   |   |   |   |   |--- feature_4 >  233.50\n",
      "|   |   |   |   |   |   |   |--- class: 0\n",
      "|   |   |   |   |   |--- feature_3 >  109.00\n",
      "|   |   |   |   |   |   |--- class: 0\n",
      "|   |   |--- feature_9 >  0.40\n",
      "|   |   |   |--- class: 0\n",
      "|--- feature_2 >  0.50\n",
      "|   |--- feature_9 <= 1.95\n",
      "|   |   |--- feature_11 <= 0.50\n",
      "|   |   |   |--- feature_0 <= 66.00\n",
      "|   |   |   |   |--- feature_9 <= 1.70\n",
      "|   |   |   |   |   |--- feature_3 <= 109.00\n",
      "|   |   |   |   |   |   |--- feature_7 <= 154.00\n",
      "|   |   |   |   |   |   |   |--- class: 0\n",
      "|   |   |   |   |   |   |--- feature_7 >  154.00\n",
      "|   |   |   |   |   |   |   |--- class: 1\n",
      "|   |   |   |   |   |--- feature_3 >  109.00\n",
      "|   |   |   |   |   |   |--- class: 1\n",
      "|   |   |   |   |--- feature_9 >  1.70\n",
      "|   |   |   |   |   |--- feature_2 <= 2.00\n",
      "|   |   |   |   |   |   |--- class: 0\n",
      "|   |   |   |   |   |--- feature_2 >  2.00\n",
      "|   |   |   |   |   |   |--- class: 1\n",
      "|   |   |   |--- feature_0 >  66.00\n",
      "|   |   |   |   |--- feature_7 <= 146.50\n",
      "|   |   |   |   |   |--- class: 1\n",
      "|   |   |   |   |--- feature_7 >  146.50\n",
      "|   |   |   |   |   |--- class: 0\n",
      "|   |   |--- feature_11 >  0.50\n",
      "|   |   |   |--- feature_1 <= 0.50\n",
      "|   |   |   |   |--- class: 1\n",
      "|   |   |   |--- feature_1 >  0.50\n",
      "|   |   |   |   |--- feature_6 <= 0.50\n",
      "|   |   |   |   |   |--- feature_0 <= 53.50\n",
      "|   |   |   |   |   |   |--- feature_3 <= 121.50\n",
      "|   |   |   |   |   |   |   |--- class: 0\n",
      "|   |   |   |   |   |   |--- feature_3 >  121.50\n",
      "|   |   |   |   |   |   |   |--- class: 1\n",
      "|   |   |   |   |   |--- feature_0 >  53.50\n",
      "|   |   |   |   |   |   |--- class: 0\n",
      "|   |   |   |   |--- feature_6 >  0.50\n",
      "|   |   |   |   |   |--- feature_2 <= 2.50\n",
      "|   |   |   |   |   |   |--- feature_3 <= 139.00\n",
      "|   |   |   |   |   |   |   |--- class: 1\n",
      "|   |   |   |   |   |   |--- feature_3 >  139.00\n",
      "|   |   |   |   |   |   |   |--- feature_5 <= 0.50\n",
      "|   |   |   |   |   |   |   |   |--- class: 0\n",
      "|   |   |   |   |   |   |   |--- feature_5 >  0.50\n",
      "|   |   |   |   |   |   |   |   |--- class: 1\n",
      "|   |   |   |   |   |--- feature_2 >  2.50\n",
      "|   |   |   |   |   |   |--- class: 0\n",
      "|   |--- feature_9 >  1.95\n",
      "|   |   |--- feature_10 <= 0.50\n",
      "|   |   |   |--- class: 1\n",
      "|   |   |--- feature_10 >  0.50\n",
      "|   |   |   |--- feature_5 <= 0.50\n",
      "|   |   |   |   |--- class: 0\n",
      "|   |   |   |--- feature_5 >  0.50\n",
      "|   |   |   |   |--- class: 1\n",
      "\n"
     ]
    }
   ],
   "source": [
    "text_representation = tree.export_text(clf)\n",
    "print(text_representation)"
   ]
  },
  {
   "cell_type": "code",
   "execution_count": null,
   "metadata": {},
   "outputs": [],
   "source": [
    "if len(vals)>10:\n",
    "                find_gini = [.5,vals[0]]\n",
    "                for val in vals[1:]:\n",
    "                    node_left = df[df[col]<val].target\n",
    "                    node_right = df[df[col]>=val].target\n",
    "                    impurity = self.gini_impurity_score(node_left,node_right)\n",
    "                    if impurity < find_gini[0]: find_gini=[impurity,val]"
   ]
  },
  {
   "cell_type": "code",
   "execution_count": 166,
   "metadata": {},
   "outputs": [
    {
     "data": {
      "text/plain": [
       "7"
      ]
     },
     "execution_count": 166,
     "metadata": {},
     "output_type": "execute_result"
    }
   ],
   "source": [
    "int(7.9)"
   ]
  },
  {
   "cell_type": "code",
   "execution_count": 168,
   "metadata": {},
   "outputs": [
    {
     "name": "stdout",
     "output_type": "stream",
     "text": [
      "k\n"
     ]
    }
   ],
   "source": [
    "def hey():\n",
    "\n",
    "    print(\"k\")\n",
    "    return\n",
    "hey()"
   ]
  },
  {
   "cell_type": "code",
   "execution_count": 170,
   "metadata": {},
   "outputs": [
    {
     "data": {
      "text/plain": [
       "-1"
      ]
     },
     "execution_count": 170,
     "metadata": {},
     "output_type": "execute_result"
    }
   ],
   "source": [
    "int(-1.22)"
   ]
  },
  {
   "cell_type": "code",
   "execution_count": null,
   "metadata": {},
   "outputs": [],
   "source": []
  }
 ],
 "metadata": {
  "kernelspec": {
   "display_name": "Python 3",
   "language": "python",
   "name": "python3"
  },
  "language_info": {
   "codemirror_mode": {
    "name": "ipython",
    "version": 3
   },
   "file_extension": ".py",
   "mimetype": "text/x-python",
   "name": "python",
   "nbconvert_exporter": "python",
   "pygments_lexer": "ipython3",
   "version": "3.8.4"
  }
 },
 "nbformat": 4,
 "nbformat_minor": 4
}
