{
 "cells": [
  {
   "cell_type": "code",
   "execution_count": 3,
   "metadata": {},
   "outputs": [],
   "source": [
    "import numpy as np\n",
    "import math\n",
    "import random\n",
    "import matplotlib.pyplot as plt\n",
    "import pandas as pd\n",
    "import seaborn as sns\n",
    "import copy\n",
    "\n",
    "#less params --> less overfitting\n",
    "\n",
    "#np.linalg = youtube.com/watch?v=tXCqr2UsbWQ"
   ]
  },
  {
   "cell_type": "code",
   "execution_count": 27,
   "metadata": {},
   "outputs": [],
   "source": [
    "class Line():\n",
    "    def create_line(self):\n",
    "        x1,x2 = np.random.uniform(-1,1,2)\n",
    "        y1,y2 = np.random.uniform(-1,1,2)\n",
    "        self.slope = (y1-y2)/(x1-x2)\n",
    "        self.b = y1-self.slope*x1\n",
    "        \n",
    "    def calculate(self,x):\n",
    "        return self.slope*x+self.b\n",
    "    \n",
    "    def find_actual_y(self,X):\n",
    "        return [np.sign(y - self.calculate(x)) for x,y in X] #higher than line = 1\n",
    "\n",
    "\n"
   ]
  },
  {
   "cell_type": "code",
   "execution_count": 57,
   "metadata": {},
   "outputs": [],
   "source": [
    "\n",
    "\n",
    "class KMeansClustering():\n",
    "    def __init__(self):\n",
    "        self.X = np.random.uniform(-1.0,1.0,(100,2))\n",
    "        self.k = 10\n",
    "    def runKMeansClustering(self):\n",
    "        lowestScore = 100\n",
    "        for x in range(10):\n",
    "            score, Uks = self.Iter_KMeansClustering()\n",
    "            if lowestScore > score:\n",
    "                lowestScore = score\n",
    "                self.Uks = Uks\n",
    "        print(lowestScore)\n",
    "        print(self.Uks)\n",
    "    \n",
    "    def empty(self, Sks):\n",
    "        return len([Sk for Sk in Sks if Sk == []])>0\n",
    "    \n",
    "    def Iter_KMeansClustering(self):\n",
    "        Uks = np.random.uniform(-1.0,1.0,(10,2))\n",
    "        oldUks = Uks\n",
    "        Sks = self.AdjustSks(Uks)\n",
    "        \n",
    "        while self.empty(Sks):\n",
    "                print(\"bad\")\n",
    "                Uks = np.random.uniform(-1.0,1.0,(10,2))\n",
    "                Sks = self.AdjustSks(Uks)\n",
    "                \n",
    "        while True:\n",
    "            \n",
    "            Uks = self.getUks(Sks)\n",
    "                \n",
    "            if np.equal(oldUks,Uks).all():\n",
    "                break\n",
    "\n",
    "            \n",
    "\n",
    "            Sks = self.AdjustSks(Uks)\n",
    "            \n",
    "            while self.empty(Sks):\n",
    "                print(\"bad\")\n",
    "                Uks = np.random.uniform(-1.0,1.0,(10,2))\n",
    "                Sks = self.AdjustSks(Uks)\n",
    "                \n",
    "            oldUks = copy.deepcopy(Uks)\n",
    "            \n",
    "\n",
    "        score = self.MinimizeLloyedAlgorithm(Sks,Uks)\n",
    "        return score,Uks\n",
    "    \n",
    "    def AdjustSks(self,Uks):\n",
    "        Sks = [[] for x in range(self.k)]\n",
    "        distances = self.getDistance(Uks)\n",
    "        for xn,i in zip(self.X,distances):\n",
    "            Sks[np.argmin(i)] = Sks[np.argmin(i)]+[xn]\n",
    "        return Sks\n",
    "    \n",
    "    def getUks(self,Sks):\n",
    "        Uks = []\n",
    "        for k in range(self.k):\n",
    "            Sk = self.getSk(Sks,k)\n",
    "            uk = np.array(Sk).mean(axis=0) \n",
    "            Uks.append(uk)\n",
    "        return Uks\n",
    "    \n",
    "    def getSk(self,Sks,k):\n",
    "        return Sks[k]\n",
    "    \n",
    "    def getDistance(self,Uks):\n",
    "        return [[np.linalg.norm(xn-uk) for uk in Uks] for xn in self.X]\n",
    "    \n",
    "    def MinimizeLloyedAlgorithm(self,Sks,Uks):\n",
    "        return np.sum(np.sum([[np.linalg.norm(xn-uk,ord=2) for xn in Sk] for uk, Sk in zip(Uks,Sks)]))\n",
    " \n"
   ]
  },
  {
   "cell_type": "code",
   "execution_count": 59,
   "metadata": {},
   "outputs": [],
   "source": [
    "class RBF(KMeansClustering):\n",
    "    def __init__(self):\n",
    "        self.gamma = 1\n",
    "        self.k = 10\n",
    "    def getPhi(self):\n",
    "        phi = np.array([[self.GuassianKernel(xn,uk) for uk in self.Uks] for xn in self.X])\n",
    "        #phi = np.concatenate([np.ones((len(phi),1)),phi],axis=1)\n",
    "        return phi\n",
    "        \n",
    "\n",
    "    def calculate_pred(self,xn):\n",
    "        kernel = [self.GuassianKernel(xn,uk) for uk in self.Uks]\n",
    "        return np.sign(np.dot(kernel,self.weights))\n",
    "            \n",
    "    def findWeights(self):\n",
    "        phi = self.getPhi()\n",
    "        phi2 = np.matmul(phi.T,phi)\n",
    "        iphi = np.linalg.pinv(phi2)\n",
    "        iPP = np.matmul(iphi,phi.T)\n",
    "        self.weights = np.matmul(iPP,self.y.T)\n",
    "    \n",
    "    def fit(self,X,y):\n",
    "        self.X = X\n",
    "        self.y = y\n",
    "        self.runKMeansClustering()\n",
    "        self.findWeights()\n",
    "        \n",
    "    def GuassianKernel(self,x1,x2):\n",
    "        return np.exp(-1 * self.gamma * np.linalg.norm(x1 - x2,ord=2)) #guassian\n",
    "        \n",
    "        \n",
    "    def calculate_preds(self,X):\n",
    "        return np.array([self.calculate_pred(x)for x in X])"
   ]
  },
  {
   "cell_type": "code",
   "execution_count": 60,
   "metadata": {},
   "outputs": [],
   "source": [
    "\n",
    "\n",
    "        \n",
    "class create_test(Line):\n",
    "    def __init__(self,N):\n",
    "\n",
    "        self.create_line()\n",
    "        \n",
    "\n",
    "        self.N = N\n",
    "        self.X = np.random.uniform(-1.0,1.0,(self.N,2))\n",
    "        self.y = np.array(self.find_actual_y(self.X))\n",
    "        \n",
    "        \n",
    "        my_rbf = RBF()\n",
    "        my_rbf.fit(self.X,self.y)\n",
    "        \n",
    "        self.Ein = self.Ein_error(my_rbf)\n",
    "        self.Eout = self.Eout_error(my_rbf)\n",
    "\n",
    "        self.Print()\n",
    "        \n",
    "    def Print(self):\n",
    "        print(\"RBF Ein Error %s\" % self.Ein)\n",
    "        print(\"RBF Eout Error %s\" % self.Eout)\n",
    "        \n",
    "    def add_thresholdCol(self,X):\n",
    "        return np.concatenate([[[1]for x in range(len(X))],X],axis=1)  \n",
    "        \n",
    "    def Ein_error(self,my_rbf):\n",
    "        preds = my_rbf.calculate_preds(self.X)\n",
    "        return np.count_nonzero(preds!=self.y)/self.N\n",
    "    \n",
    "    def Eout_error(self,my_rbf):\n",
    "        X = np.random.uniform(-1.0,1.0,(1000,2))\n",
    "        y = self.find_actual_y(X)\n",
    "        preds = my_rbf.calculate_preds(X)\n",
    "        return np.count_nonzero(preds!=y)/1000"
   ]
  },
  {
   "cell_type": "code",
   "execution_count": 61,
   "metadata": {},
   "outputs": [
    {
     "name": "stdout",
     "output_type": "stream",
     "text": [
      "bad\n",
      "bad\n",
      "20.580871624434064\n",
      "[array([-0.64726998, -0.65361503]), array([0.70177337, 0.73882034]), array([ 0.29114377, -0.85777321]), array([ 0.85489867, -0.8453018 ]), array([-0.6000743 ,  0.49695427]), array([-0.1619608 ,  0.59126882]), array([0.66548562, 0.21316169]), array([ 0.00838665, -0.21635813]), array([-0.7209884 , -0.10404994]), array([ 0.73350659, -0.30229973])]\n",
      "RBF Ein Error 0.02\n",
      "RBF Eout Error 0.046\n"
     ]
    },
    {
     "data": {
      "text/plain": [
       "<__main__.create_test at 0x7fbcbc029df0>"
      ]
     },
     "execution_count": 61,
     "metadata": {},
     "output_type": "execute_result"
    }
   ],
   "source": [
    "create_test(100)\n"
   ]
  },
  {
   "cell_type": "code",
   "execution_count": 365,
   "metadata": {},
   "outputs": [
    {
     "data": {
      "text/plain": [
       "nan"
      ]
     },
     "execution_count": 365,
     "metadata": {},
     "output_type": "execute_result"
    }
   ],
   "source": [
    "np.average([])"
   ]
  },
  {
   "cell_type": "code",
   "execution_count": null,
   "metadata": {},
   "outputs": [],
   "source": []
  }
 ],
 "metadata": {
  "kernelspec": {
   "display_name": "Python 3",
   "language": "python",
   "name": "python3"
  },
  "language_info": {
   "codemirror_mode": {
    "name": "ipython",
    "version": 3
   },
   "file_extension": ".py",
   "mimetype": "text/x-python",
   "name": "python",
   "nbconvert_exporter": "python",
   "pygments_lexer": "ipython3",
   "version": "3.8.4"
  }
 },
 "nbformat": 4,
 "nbformat_minor": 4
}
