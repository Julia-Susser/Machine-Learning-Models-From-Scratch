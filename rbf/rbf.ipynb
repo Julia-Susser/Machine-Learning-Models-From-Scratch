{
 "cells": [
  {
   "cell_type": "code",
   "execution_count": 4,
   "metadata": {},
   "outputs": [],
   "source": [
    "import numpy as np\n",
    "import math\n",
    "import random\n",
    "import matplotlib.pyplot as plt\n",
    "import pandas as pd\n",
    "import seaborn as sns\n",
    "import copy\n",
    "\n",
    "\n",
    "\n",
    "#np.linalg = youtube.com/watch?v=tXCqr2UsbWQ"
   ]
  },
  {
   "cell_type": "code",
   "execution_count": 5,
   "metadata": {},
   "outputs": [],
   "source": [
    "class Line():\n",
    "    def create_line(self):\n",
    "        x1,x2 = np.random.uniform(-1,1,2)\n",
    "        y1,y2 = np.random.uniform(-1,1,2)\n",
    "        self.slope = (y1-y2)/(x1-x2)\n",
    "        self.b = y1-self.slope*x1\n",
    "        \n",
    "    def calculate(self,x):\n",
    "        return self.slope*x+self.b\n",
    "    \n",
    "    def find_actual_y(self,X):\n",
    "        return [np.sign(y - self.calculate(x)) for x,y in X] #higher than line = 1\n",
    "\n",
    "\n",
    "class RBF:\n",
    "    def __init__(self):\n",
    "        self.gamma = 1\n",
    "        \n",
    "    def getPhi(self):\n",
    "        return np.array([[self.GuassianKernel(xn,xm) for xm in self.X] for xn in self.X])\n",
    "        \n",
    "\n",
    "    def calculate_pred(self,xn):\n",
    "        kernel = [self.GuassianKernel(xm,xn) for xm in self.X]\n",
    "        return np.sign(np.dot(kernel,self.weights))\n",
    "            \n",
    "    def findWeights(self):\n",
    "        phi = self.getPhi()\n",
    "        iphi = np.linalg.pinv(phi)\n",
    "        self.weights = np.matmul(iphi,self.y.T)\n",
    "    \n",
    "    def runRBF(self):\n",
    "        self.findWeights()\n",
    "        \n",
    "    def GuassianKernel(self,x1,x2):\n",
    "        return np.exp(-1 * self.gamma * np.linalg.norm(x1 - x2,ord=2)) #guassian\n",
    "        \n",
    "        \n",
    "    def calculate_preds(self,X):\n",
    "        return np.array([self.calculate_pred(x)for x in X])"
   ]
  },
  {
   "cell_type": "code",
   "execution_count": 6,
   "metadata": {},
   "outputs": [],
   "source": [
    "\n",
    "\n",
    "        \n",
    "class create_test(RBF, Line):\n",
    "    def __init__(self,N):\n",
    "        super().__init__()\n",
    "        self.create_line()\n",
    "\n",
    "        self.N = N\n",
    "        self.X = np.random.uniform(-1.0,1.0,(self.N,2))\n",
    "        self.y = np.array(self.find_actual_y(self.X))\n",
    "        \n",
    "        self.runRBF()\n",
    "        \n",
    "        self.Eout = self.Eout_error()\n",
    "\n",
    "        self.Print()\n",
    "        \n",
    "    def Print(self):\n",
    "        print(\"RBF Ein Error %s\" % self.Ein_error())\n",
    "        print(\"RBF Eout Error %s\" % self.Eout)\n",
    "        \n",
    "    def add_thresholdCol(self,X):\n",
    "        return np.concatenate([[[1]for x in range(len(X))],X],axis=1)  \n",
    "        \n",
    "    def Ein_error(self):\n",
    "        preds = self.calculate_preds(self.X)\n",
    "        return np.count_nonzero(preds!=self.y)/self.N\n",
    "    \n",
    "    def Eout_error(self):\n",
    "        X = np.random.uniform(-1.0,1.0,(1000,2))\n",
    "        y = self.find_actual_y(X)\n",
    "        preds = self.calculate_preds(X)\n",
    "        return np.count_nonzero(preds!=y)/1000"
   ]
  },
  {
   "cell_type": "code",
   "execution_count": 7,
   "metadata": {},
   "outputs": [
    {
     "name": "stdout",
     "output_type": "stream",
     "text": [
      "RBF Ein Error 0.0\n",
      "RBF Eout Error 0.114\n"
     ]
    },
    {
     "data": {
      "text/plain": [
       "<__main__.create_test at 0x7f85267c3520>"
      ]
     },
     "execution_count": 7,
     "metadata": {},
     "output_type": "execute_result"
    }
   ],
   "source": [
    "create_test(10)"
   ]
  },
  {
   "cell_type": "code",
   "execution_count": null,
   "metadata": {},
   "outputs": [],
   "source": []
  }
 ],
 "metadata": {
  "kernelspec": {
   "display_name": "Python 3",
   "language": "python",
   "name": "python3"
  },
  "language_info": {
   "codemirror_mode": {
    "name": "ipython",
    "version": 3
   },
   "file_extension": ".py",
   "mimetype": "text/x-python",
   "name": "python",
   "nbconvert_exporter": "python",
   "pygments_lexer": "ipython3",
   "version": "3.8.4"
  }
 },
 "nbformat": 4,
 "nbformat_minor": 4
}
